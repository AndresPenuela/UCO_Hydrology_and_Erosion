{
 "cells": [
  {
   "cell_type": "markdown",
   "id": "62bf8949",
   "metadata": {},
   "source": [
    "# Water retention curve - van Genuchten model\n",
    "\n",
    "Water retention curve is the relationship between the water content, $θ$ (or effective Sauration $S_e$), and the soil water potential, $ψ_m$. This curve is characteristic for different types of soil, and is also called the soil moisture characteristic.\n",
    "\n",
    "It is used to predict the soil water storage, water supply to the plants or available water (field capacity - wilting point). \n",
    "\n",
    "The water retention curve can partially obtained in the lab: basically this is done by applying a given suction to a saturated soil sample and then we measure the volume of water that the soil loses. In this way we estimate the content water content for a given suction pressure. However, in this way we only obtain a limited number of measurements or points of the curve. To obtain the whole curve we need a model that best fit the points.\n",
    "\n",
    "The water retention curve can be obtained by several models, one of them known as the Van Genuchten model:\n",
    "\n",
    "$$\n",
    "S_{e} = \\left[\\frac{1}{1 + (-\\alpha\\psi_{m})^n}\\right]^m\\\n",
    "$$\n",
    "\n",
    "where $\\alpha$ is a parameter of scale and $m$ and $n$ are parameters of shape. In general, $m = 1 - 1/n$ \n",
    "\n",
    "In the lab using a pressure chamber we have measured the effective saturation $S_e$ of a soil sample for the following suction pressures ($ψ_m$): -20, -60, -300, -800, -5000, -10000 cm and we have obtained the following values for $S_e$: 0.951, 0.914, 0.432, 0.172, 0.042, 0.023\n",
    "\n",
    "<left><img src=\"images/pressure_chamber.jpg\" width=\"400px\">\n",
    "\n",
    "### First of all, import the necessary libraries\n",
    "🚨 in order to run the code, like in the box below, place the mouse pointer in the cell, then click on “▶ Run” button above or press shift + enter"
   ]
  },
  {
   "cell_type": "code",
   "execution_count": null,
   "id": "d5b3ee34",
   "metadata": {},
   "outputs": [],
   "source": [
    "import numpy as np  # Import NumPy for numerical operations\n",
    "import matplotlib.pyplot as plt  # Import Matplotlib for plotting\n",
    "from ipywidgets import interact  # Import interact to create interactive widgets (e.g. sliders)\n",
    "from util.interactive_vanGenuchten import interactive_vanGenuchten_2, interactive_vanGenuchten_3 # import interactive plots "
   ]
  },
  {
   "cell_type": "markdown",
   "id": "eb3c2bb5",
   "metadata": {},
   "source": [
    "## We define the function of the van Genuchten model"
   ]
  },
  {
   "cell_type": "code",
   "execution_count": null,
   "id": "2111f53c",
   "metadata": {},
   "outputs": [],
   "source": [
    "def vanGenuchten(Ψ_m, α, n):\n",
    "    \"\"\"\n",
    "    Calculate effective saturation (or the water retention curve) based on the van Genuchten model.\n",
    "\n",
    "    Parameters:\n",
    "    Ψ_m : Matric potential values.\n",
    "    α : Parameter related to the inverse of the air entry potential.\n",
    "    n : Parameter related to the pore size distribution.\n",
    "\n",
    "    Returns:\n",
    "    result : Effective saturation values (S_e)\n",
    "    \"\"\"\n",
    "    m = 1 - 1/n  # Calculate the parameter m from n\n",
    "\n",
    "    # Calculate effective saturation S_e using the van Genuchten equation\n",
    "    S_e = (1 / (1 + (-α * -Ψ_m) ** n)) ** m\n",
    "\n",
    "    return S_e  # Return the result\n",
    "    "
   ]
  },
  {
   "cell_type": "markdown",
   "id": "0eaa1eef",
   "metadata": {},
   "source": [
    "### Observations to fit our model"
   ]
  },
  {
   "cell_type": "code",
   "execution_count": null,
   "id": "48b8ac46",
   "metadata": {},
   "outputs": [],
   "source": [
    "# Observed matric potential (Ψ_m) and corresponding effective saturation (S_e) values\n",
    "Ψ_m_obs = np.array([20, 60, 300, 800, 5000, 10000])\n",
    "S_e_obs = np.array([0.951, 0.914, 0.432, 0.172, 0.042, 0.023]) \n",
    "\n",
    "# Simulated range of matric potential values from 1 to 100,000\n",
    "Ψ_m_sim = np.arange(1, 100000 + 1, 1)"
   ]
  },
  {
   "cell_type": "markdown",
   "id": "4597deeb",
   "metadata": {},
   "source": [
    "### Exercise 1: **Playing with the parameters $\\alpha$ and $n$ try to find the best fit between the observed points and the modelled curve**\n",
    "\n",
    "For this purpose, we run an interactive figure to play with the model parameters"
   ]
  },
  {
   "cell_type": "code",
   "execution_count": null,
   "id": "ece9e597",
   "metadata": {},
   "outputs": [],
   "source": [
    "@interact(α=(0, 0.05, 0.01), n=(1, 4, 0.1))  # Create interactive sliders for α and n\n",
    "def interactive_vanGenuchten_1(α=0.004, n=1.2):\n",
    "    \"\"\"\n",
    "    Interactive function to simulate and plot the van Genuchten model.\n",
    "\n",
    "    Parameters:\n",
    "    α : float\n",
    "        Parameter related to the inverse of the air entry potential, default is 0.004.\n",
    "    n : float\n",
    "        Parameter related to the pore size distribution, default is 1.2.\n",
    "    \"\"\"\n",
    "    # Simulate effective saturation for the range of matric potential using the von Genuchten model\n",
    "    S_e_sim = vanGenuchten(Ψ_m_sim, α, n)\n",
    "    \n",
    "    # Calculate the Mean Squared Error (MSE) between observed and simulated effective saturation\n",
    "    MSE = np.square(np.subtract(S_e_obs, vanGenuchten(Ψ_m_obs, α, n))).mean() \n",
    "    RMSE = np.sqrt(MSE)  # Calculate Root Mean Squared Error (RMSE)\n",
    "\n",
    "    ### Plot of the data and best fit line\n",
    "    plt.figure(figsize=(8, 4))  # Define the plot size\n",
    "    plt.scatter(Ψ_m_obs, S_e_obs, label='measured')  # Scatter plot for observed data\n",
    "    plt.plot(Ψ_m_sim, S_e_sim, label='simulated')  # Line plot for simulated data\n",
    "    plt.ylabel('Se [vol/vol]')  # Label for y-axis\n",
    "    plt.xlabel('Matric potential [|cm|]')  # Label for x-axis\n",
    "    plt.xscale(\"log\")  # Set x-axis to logarithmic scale\n",
    "    plt.title('Goodness of fit (RMSE) = %.3f' % RMSE)  # Title with RMSE value\n",
    "    plt.legend()  # Display legend\n",
    "    plt.show()  # Show the plot"
   ]
  },
  {
   "cell_type": "markdown",
   "id": "e920c1e7",
   "metadata": {},
   "source": [
    "⚡ **What combination of parameter values gives the best fit to the observations?**\n",
    "\n",
    "## Excercise 2\n",
    "Now we have modelled the water retention curve for **three different soil textures, sand, loam and clay**, using some typical values for the parameters of the van Genuchten model. \n",
    "\n",
    "<left><img src=\"images/soil_textures.png\" width=\"400px\">\n",
    "\n",
    "Please notice that now we represent the curve in two different ways, one representing $S_e$ in the y axis and another one using the soil water content ($\\theta$). This second way comes from writing down the equation as follows:\n",
    "\n",
    "$$\n",
    "S_{e} = \\frac{\\theta - \\theta_r}{\\theta_s - \\theta_r} = \\left[\\frac{1}{1 + (-\\alpha\\psi_{m})^n}\\right]^m\\\n",
    "$$\n",
    "\n",
    "\n",
    "$$\n",
    "\\theta = \\theta_r + (\\theta_s - \\theta_r) \\left[\\frac{1}{1 + (-\\alpha\\psi_{m})^n}\\right]^m\\\n",
    "$$\n",
    "\n",
    "where $\\theta_r$ is the residual water content (water attached tightly to soil particles at very high tensions, $ψ_m$ → -$\\infty$) and $\\theta_s$ is the saturation water content (when all the soil pores are full of water)."
   ]
  },
  {
   "cell_type": "code",
   "execution_count": null,
   "id": "cc062be9",
   "metadata": {},
   "outputs": [],
   "source": [
    "interact(interactive_vanGenuchten_2,soil_type = ['sand', 'loam', 'clay'])"
   ]
  },
  {
   "cell_type": "markdown",
   "id": "68f09a0d",
   "metadata": {},
   "source": [
    "⚡ **Which soil texture fits better to the observed values?**\n",
    "\n",
    "⚡ **Which soil texture has more available water for plants?** \n",
    "\n",
    "⚡ **and a higher porosity?**"
   ]
  },
  {
   "cell_type": "markdown",
   "id": "d512e3d7",
   "metadata": {},
   "source": [
    "## Excercise 3 - Guess-the-parameter challenge\n",
    "\n",
    "In this exercise you should try to **guess the name of the model parameters just by playing with the their values**. For this purpose, you can use the sliders to change their values and observe how the water retention curve reacts.\n",
    "\n",
    "This is intended to promote inquiry-based learning, where students learn by experimenting and making observations rather than being explicitly told the information. By manipulating the parameters and observing the results, they actively engage in the learning process, enhancing their understanding through trial and error.\n",
    "\n",
    "**Before you try to guess the parameters, try to find the combination of parameters that maximize the water available for plants.**\n",
    "\n",
    "<left><img src=\"images/ideal_soil.png\" width=\"400px\">"
   ]
  },
  {
   "cell_type": "code",
   "execution_count": null,
   "id": "15ac9042",
   "metadata": {},
   "outputs": [],
   "source": [
    "interact(interactive_vanGenuchten_3,p1 = (0.01,0.1,0.01), p2 = (1,4,0.1), p3 = (0,0.25,0.05), p4 = (0.30,0.6,0.05))"
   ]
  },
  {
   "cell_type": "markdown",
   "id": "f5647fe7",
   "metadata": {},
   "source": [
    "⚡ **what is the maximum value of available water that you can reach by playing with the values of the parameters?**\n",
    "\n",
    "⚡ **what combination of parameters represent the worst soil for agriculture?** \n",
    "\n",
    "⚡ **are you able to guess what parameters (p1, p2, p3, p4) correspond to: soil water content at saturation ($\\theta_s$) and resdiual water content ($\\theta_r$)?**"
   ]
  },
  {
   "cell_type": "code",
   "execution_count": null,
   "id": "3ac51dd4",
   "metadata": {},
   "outputs": [],
   "source": []
  }
 ],
 "metadata": {
  "kernelspec": {
   "display_name": "Python 3 (ipykernel)",
   "language": "python",
   "name": "python3"
  },
  "language_info": {
   "codemirror_mode": {
    "name": "ipython",
    "version": 3
   },
   "file_extension": ".py",
   "mimetype": "text/x-python",
   "name": "python",
   "nbconvert_exporter": "python",
   "pygments_lexer": "ipython3",
   "version": "3.8.13"
  },
  "varInspector": {
   "cols": {
    "lenName": 16,
    "lenType": 16,
    "lenVar": 40
   },
   "kernels_config": {
    "python": {
     "delete_cmd_postfix": "",
     "delete_cmd_prefix": "del ",
     "library": "var_list.py",
     "varRefreshCmd": "print(var_dic_list())"
    },
    "r": {
     "delete_cmd_postfix": ") ",
     "delete_cmd_prefix": "rm(",
     "library": "var_list.r",
     "varRefreshCmd": "cat(var_dic_list()) "
    }
   },
   "types_to_exclude": [
    "module",
    "function",
    "builtin_function_or_method",
    "instance",
    "_Feature"
   ],
   "window_display": false
  }
 },
 "nbformat": 4,
 "nbformat_minor": 5
}
