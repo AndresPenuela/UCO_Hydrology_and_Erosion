{
 "cells": [
  {
   "cell_type": "markdown",
   "id": "ab912715",
   "metadata": {},
   "source": [
    "# Soil infiltration model based on Green-Ampt\n",
    "\n",
    "<left><img src=\"images/ponded_water.png\" width=\"800px\">\n",
    "\n",
    "\n",
    "The Green-Ampt method represents the water infiltrating the soil during a rainfall event (or irrigation) as a sharp wetting front dividing saturated soil above from initial unsaturated (not necessarily dry) conditions below. This model makes several assumptions or simplifications of reality:\n",
    "\n",
    "- It assumes that the soil surface is ponded from the beginning with a shallow sheet of water\n",
    "- The soil is deep and homogeneous, with a constant initial soil moisture in depth\n",
    "- The moisture advance front or wetting front is flat and it is a sharp discontinuity that raises moisture from and initial value to saturation as it descends in the soil profile during the rainfall event.\n",
    "\n",
    "<left><img src=\"images/Green-Ampt_diagram_2.png\" width=\"800px\">\n",
    "\n",
    "The parameters of the model are the following:\n",
    "- $Ψ$ = matric potential at the wetting front ($Ψ_m$)\n",
    "- $L$ = depth of infiltration\n",
    "- $K$ = saturated hydraulic conductivity ($k_s$)\n",
    "- $h_0$ = depth of ponded water\n",
    "- $θ$ = soil moisture or soil water content\n",
    "- $Δθ$ = moisture increment (from initial moisture to saturation)\n",
    "- $θ_i$ = initial soil moisture content (before rainfall and infiltration start)\n",
    "- $θ_r$ = residual soil moisture (for very dry soil conditions)\n",
    "- $θ_e$ = effective soil moisture or effective porosity\n",
    "- $η$ = soil porosity\n",
    "    \n",
    "Let's do some interactive exercises to try to better the model and its parameters.\n",
    "    \n",
    "🚨 in order to run the code, like in the box below, place the mouse pointer in the cell, then click on “▶ Run” button above or press shift + enter    \n"
   ]
  },
  {
   "cell_type": "code",
   "execution_count": null,
   "id": "a2fbabab",
   "metadata": {},
   "outputs": [],
   "source": [
    "from ipywidgets import interact # to create interactive elements and figures\n",
    "from util.GA_interactive import GA_interactive_1, GA_interactive_2\n",
    "\n",
    "# Green-Ampt model\n",
    "def G(K_s, Ψ, Δθ, F, t, F_p, t_p): \n",
    "    \"\"\"\n",
    "    Function G to calculate the cumulative infiltration F for a given time step t.\n",
    "    The solution of the function, G(F) = 0, must be done by trial-and-error or by \n",
    "    some numerical method, such as Newton-Raphson\n",
    "    \"\"\"\n",
    "    return K_s * (t - t_p) - F + F_p + Δθ * Ψ * np.log((F + Δθ * Ψ)/(F_p + Δθ * Ψ))"
   ]
  },
  {
   "cell_type": "markdown",
   "id": "7016ebbd",
   "metadata": {},
   "source": [
    "## Exercise 1\n",
    "In this exercise we are going to see how soil texture influences the process of soil infiltration. Let's imagine that we would like to simulate the infiltration process of a **24-hour rainfall**, with an intensity of **40mm/h**. For this purpose, we use the Green-Ampt model and typical parameter values for 5 different soil textures: **loamy sand, sandy loam, loam, clay loam, and clay**. To explore and compare the results for different soil textures, just select one from the drop down menu that you will see after running the code below."
   ]
  },
  {
   "cell_type": "code",
   "execution_count": null,
   "id": "54d7b123",
   "metadata": {},
   "outputs": [],
   "source": [
    "r = 40 # rainfall rate (mm/h)\n",
    "interact(GA_interactive_1, soil_type = ['loamy sand', 'sandy loam', 'loam','clay loam', 'clay'])"
   ]
  },
  {
   "cell_type": "markdown",
   "id": "9b13dc55",
   "metadata": {},
   "source": [
    "**Note**: In the first graph, the horizontal lines represent the wetting front for each time step (in total T time steps): from ponding time followed by increasingly darker blue lines for each time step until time T (24h)\n",
    "\n",
    "### Questions (EXPLAIN your answers)\n",
    "Identify the soil texture with:\n",
    "1. higher porosity. \n",
    "2. deeper infiltration.\n",
    "3. highest volume of infiltrated water.\n",
    "4. the most variable soil infiltration rate with time.\n",
    "5. longer ponding time.\n",
    "6. highest saturated hydraulic conductivity\n",
    "\n",
    "For all the questions **explain**: \n",
    "- what figure (1, 2 or 3) you use to answer the question\n",
    "- where in the figure you need to look at and why\n",
    "- if you can you see this in more than one figure\n",
    "\n",
    "## Exercise 2\n",
    "\n",
    "Now you will be able to **play with the values of the parameters** of the Green-Ampt model, however the name of each parameter is not specified. After running the code below, try to answer the questions that you will find at the end."
   ]
  },
  {
   "cell_type": "code",
   "execution_count": null,
   "id": "1a7ddac7",
   "metadata": {
    "scrolled": false
   },
   "outputs": [],
   "source": [
    "interact(GA_interactive_2,p1 = (0.5,30,0.5), p2 = (60,1000,10), p3 = (0.38,0.5,0.01))"
   ]
  },
  {
   "cell_type": "markdown",
   "id": "e0a364f6",
   "metadata": {},
   "source": [
    "**Note**: In the first graph, the horizontal lines represent the wetting front for each time step (in total T time steps): from ponding time (gray dashed line) followed by increasingly darker blue lines for each time step until time T (24h)\n",
    "\n",
    "### Questions (explain your answers)\n",
    "1. Which parameter (p1,p2,p3) corresponds to:\n",
    "    a. **porosity**\n",
    "    b. **matric suction** (in absolute value)\n",
    "    c. **saturated hydraulic conductivity**\n",
    "\n",
    "2. Which combination of values of the 3 parameters makes the erosion risk the highest? **why**?\n",
    "\n",
    "3. Which parameter has **more influence** on the results in terms of:\n",
    "    a. **ponding** time?\n",
    "    b. infiltration **depth**?\n",
    "    c. **soil water content** or soil moisture?\n",
    "    d. **cumulative** infiltration?\n",
    "    e. infiltration **rate**?\n",
    "\n",
    "4. Which parameter is the **most** influential in the **last 12 hours** of the rainfall event?\n",
    "\n",
    "5. Which parameter is the **least** influential in terms of **cumulative infiltration**"
   ]
  },
  {
   "cell_type": "code",
   "execution_count": null,
   "id": "0f3c8112",
   "metadata": {},
   "outputs": [],
   "source": []
  }
 ],
 "metadata": {
  "kernelspec": {
   "display_name": "Python 3 (ipykernel)",
   "language": "python",
   "name": "python3"
  },
  "language_info": {
   "codemirror_mode": {
    "name": "ipython",
    "version": 3
   },
   "file_extension": ".py",
   "mimetype": "text/x-python",
   "name": "python",
   "nbconvert_exporter": "python",
   "pygments_lexer": "ipython3",
   "version": "3.8.13"
  },
  "varInspector": {
   "cols": {
    "lenName": 16,
    "lenType": 16,
    "lenVar": 40
   },
   "kernels_config": {
    "python": {
     "delete_cmd_postfix": "",
     "delete_cmd_prefix": "del ",
     "library": "var_list.py",
     "varRefreshCmd": "print(var_dic_list())"
    },
    "r": {
     "delete_cmd_postfix": ") ",
     "delete_cmd_prefix": "rm(",
     "library": "var_list.r",
     "varRefreshCmd": "cat(var_dic_list()) "
    }
   },
   "types_to_exclude": [
    "module",
    "function",
    "builtin_function_or_method",
    "instance",
    "_Feature"
   ],
   "window_display": false
  }
 },
 "nbformat": 4,
 "nbformat_minor": 5
}
