{
 "cells": [
  {
   "cell_type": "code",
   "execution_count": 1,
   "id": "a2fbabab",
   "metadata": {},
   "outputs": [],
   "source": [
    "from scipy.optimize import newton, minimize\n",
    "from math import log\n",
    "import numpy as np\n",
    "import matplotlib.pyplot as plt\n",
    "from ipywidgets import interact # to create interactive elements and figures"
   ]
  },
  {
   "cell_type": "markdown",
   "id": "870c17a1",
   "metadata": {},
   "source": [
    "The theory for Green-Ampt involves conceptualization of a sharp wetting front dividing saturated soil above from initial unsaturated (not necessarily dry) conditions below. The infiltration rate f (m s-1), proceeds at the rainfall rate, i, when the surface is not ponded, and at the limiting potential rate, f_p, otherwise."
   ]
  },
  {
   "cell_type": "markdown",
   "id": "5bd82de0",
   "metadata": {},
   "source": [
    "## Ponding time\n",
    "The critical ponding codition is determined by the time of ponding $t_p$ and is expressed as:\n",
    "\n",
    "$$\n",
    "f =\n",
    "\\begin{cases}\n",
    "    i & \\text{if $t<t_{p}$,}\\\\\n",
    "    f_{p} & \\text{if $t \\ge t_{p}$}\n",
    "\\end{cases}\n",
    "$$\n",
    "\n",
    "Ponding starts when $i$ is greater than the hydraulic conductivity, $K_{s}$ (m s-1), and rainfall length and cumulative infiltration exceed available moisture storage. **What is the aturated hydraulic conductivity?**\n",
    "\n",
    "Under ponded conditions, the phenomena of water flux, $q$ (m s-1), through a soil matrix has physical equivalence to the infiltration rate $f_p$. According to Darcy's law, q is proportional to the change in hydraulic head, $h$ (m), per distance, $z$ (m), where $K_{s}$ is the constant of proportionality:\n",
    "\n",
    "$$\n",
    "q = -K_{s} \\frac{h_{1} - h_{2}}{z_{1} - z_{2}}\\\n",
    "$$\n",
    "\n",
    "$q$ is positive upwards, while $f$ is positive downwards, i.e. $f_{p} = -q$\n",
    "\n",
    "Hydraulic head is the sum of the pressure head, $p$ (m), and the elevation head, $z$ (m):\n",
    "\n",
    "$$\n",
    "h = p + z\n",
    "$$\n",
    "\n",
    "Then if we apply Darcy´s law to soil infiltration:\n",
    "\n",
    "$$\n",
    "f_{p} = K \\frac{(p_{1} + z_{1}) - (p_{2} + z_{2})}{z_{1} - z_{2}}\n",
    "$$\n",
    "\n",
    "When pressure head is atmospheric $p = 0$, when greater than atmospheric $p > 0$ and when less than atmospheric $p < 0$ and we call it matric suction head, $-\\psi$. **What is the matric suction head?**\n",
    "\n",
    "To measure $z$ we need to define a reference datum or zero elevation. This is arbitrary but if we set the zero elevation at the soil surface then z would be negative down through the soil profile.\n",
    "\n",
    "If we set $z_{1}$ as the reference datum then:\n",
    "\n",
    "$$\n",
    "z_{1} = 0\\\\\n",
    "p_{1} = h_{0}\n",
    "$$\n",
    "\n",
    "where $h_{0}$ is the ponded water depth.\n",
    "\n",
    "If we set $z_{2}$ as the wetting front interface (where infiltration is changing from saturated soil conditions into initially unsaturated) then:\n",
    "\n",
    "$$\n",
    "z_{2} = -L\\\\\n",
    "p_{2} = -\\psi_{wf}\n",
    "$$\n",
    "\n",
    "where $L$ is the wetting front depth and $\\psi_{wf}$ is the matric suction head at the wetting front. **Why when we move downwards through the soil the pressure head becomes negative, i.e. why it becomes a suction pressure?**\n",
    "\n",
    "Now we can calculate $f_{p}$ as:\n",
    "\n",
    "$$\n",
    "f_{p} = K_{s} \\frac{(h_{0} + 0) - (-\\psi_{wf} - L)}{0 + L}\n",
    "$$\n",
    "\n",
    "Typically water ponded depth is negligible compared to hydraulic head at the wetting front, i.e. $h_{0} << (\\psi_{wf} + L)$. Without $h_{0}$ the equation becomes:\n",
    "\n",
    "$$\n",
    "f_{p} = K_{s} \\frac{\\psi_{wf} + L}{L}\n",
    "$$\n",
    "\n",
    "**How do we calculate the depth of the wetting front?**. $L_{s}$ is equivalent to the cumulative infiltration depth, $F$ (m), divided by the change in soil moisture $\\Delta\\theta$:\n",
    "\n",
    "$$\n",
    "L_{s} = \\frac{F}{\\Delta\\theta}\n",
    "$$\n",
    "\n",
    "**Why?**\n",
    "\n",
    "Now the equation to calculate $L_{p}$ becomes:\n",
    "\n",
    "$$\n",
    "f_{p} = K \\frac{\\psi_{wf}\\Delta\\theta + F}{F}\n",
    "$$\n",
    "\n",
    "And since $F$ is the cumulative infiltration:\n",
    "\n",
    "$$\n",
    "f_{p} = \\frac{dF}{dt}\n",
    "$$\n",
    "\n",
    "In the Green-Ampt equation, the infiltration rate `f` and cumulative infiltration `F` are related by"
   ]
  },
  {
   "cell_type": "markdown",
   "id": "e1787f48",
   "metadata": {},
   "source": [
    "#### Infiltration rate"
   ]
  },
  {
   "cell_type": "code",
   "execution_count": null,
   "id": "f5ea9c74",
   "metadata": {},
   "outputs": [],
   "source": [
    "def infiltration_rate(K_s, Ψ, Δθ, F):\n",
    "    return K_s * (1 + Ψ * Δθ / F)"
   ]
  },
  {
   "cell_type": "markdown",
   "id": "3c092ea8",
   "metadata": {},
   "source": [
    "#### Cumulative infiltration"
   ]
  },
  {
   "cell_type": "code",
   "execution_count": null,
   "id": "0ea7be85",
   "metadata": {},
   "outputs": [],
   "source": [
    "def infiltration_cum(K_s, Ψ, Δθ, F, t):\n",
    "    return K_s * t + Δθ * Ψ * np.log(1 + F / (Δθ * Ψ))"
   ]
  },
  {
   "cell_type": "markdown",
   "id": "e550b66a",
   "metadata": {},
   "source": [
    "#### Ponding time"
   ]
  },
  {
   "cell_type": "code",
   "execution_count": null,
   "id": "98e60065",
   "metadata": {},
   "outputs": [],
   "source": [
    "def ponding_time(K_s, Ψ, Δθ, i):\n",
    "    return K_s * Δθ * Ψ / (i*(i-K_s))"
   ]
  },
  {
   "cell_type": "markdown",
   "id": "6e84c33f",
   "metadata": {},
   "source": [
    "#### Function to obtain F through iteration"
   ]
  },
  {
   "cell_type": "code",
   "execution_count": 2,
   "id": "9b9d2fd0",
   "metadata": {},
   "outputs": [],
   "source": [
    "def G(K_s, Ψ, Δθ, F, t, F_p, t_p):\n",
    "    return K_s * (t - t_p) - F + F_p + Δθ * Ψ * np.log((F + Δθ * Ψ)/(F_p + Δθ * Ψ))"
   ]
  },
  {
   "cell_type": "code",
   "execution_count": 3,
   "id": "201fbf46",
   "metadata": {},
   "outputs": [],
   "source": [
    "def G_2(F, *args):\n",
    "    return abs(K_s * (t - t_p) - F + F_p + Δθ * Ψ * np.log((F + Δθ * Ψ)/(F_p + Δθ * Ψ)))"
   ]
  },
  {
   "cell_type": "code",
   "execution_count": null,
   "id": "c4b655ef",
   "metadata": {},
   "outputs": [],
   "source": [
    "K_s   = 0.65 # hydraulic conductivity (cm/h)\n",
    "Ψ   = 16.7 # wetting front capillary pressure head (cm)\n",
    "s_e = 0.3\n",
    "θ_e = 0.486\n",
    "Δθ  = (1 - s_e) * θ_e # difference between inital and final soil moisture content\n",
    "i   = [5] # rainfall rate (cm/h)\n",
    "T = len(i)"
   ]
  },
  {
   "cell_type": "code",
   "execution_count": null,
   "id": "2dbd0788",
   "metadata": {},
   "outputs": [],
   "source": [
    "F_all = np.zeros(T+1)"
   ]
  },
  {
   "cell_type": "code",
   "execution_count": null,
   "id": "855a3458",
   "metadata": {},
   "outputs": [],
   "source": [
    "for t in range(T+1):\n",
    "    if t == 0: # ponding time\n",
    "        # The ponding time `tp` under constant rainfall intensity using the Green-Ampt infiltration equation\n",
    "        t_p = K_s * Ψ * Δθ / (i[t] * (i[t] - K_s))\n",
    "        # Then `F` during the ponding time is:\n",
    "        F_p = i[t] * t_p # f = i during the ponding time\n",
    "    else:\n",
    "        #fun = lambda F: G(K_s, Ψ, Δθ, F, t, F_p, t_p)\n",
    "        #F_all[t] = newton(fun,x0 = 3)\n",
    "        F_all[t] = minimize(G_2,x0 = 3)['x']\n"
   ]
  },
  {
   "cell_type": "markdown",
   "id": "9b13dc55",
   "metadata": {},
   "source": [
    "## Example 2"
   ]
  },
  {
   "cell_type": "code",
   "execution_count": 9,
   "id": "854e7844",
   "metadata": {},
   "outputs": [],
   "source": [
    "K_s   = 20 # hydraulic conductivity (mm/h)\n",
    "Ψ   = 80 # wetting front capillary pressure head (mm)\n",
    "Δθ  = 0.3 # difference between inital and final soil moisture content\n",
    "r   = 40 # rainfall rate (cm/h)\n",
    "T = 5"
   ]
  },
  {
   "cell_type": "code",
   "execution_count": 11,
   "id": "1a7ddac7",
   "metadata": {},
   "outputs": [
    {
     "data": {
      "application/vnd.jupyter.widget-view+json": {
       "model_id": "ad33cabc343e4630a634c9573de38dfc",
       "version_major": 2,
       "version_minor": 0
      },
      "text/plain": [
       "interactive(children=(IntSlider(value=20, description='K_s', max=30, min=1), IntSlider(value=80, description='…"
      ]
     },
     "metadata": {},
     "output_type": "display_data"
    }
   ],
   "source": [
    "@interact(K_s = (1,30,1), Ψ = (1,100,1), Δθ = (0.1,1,0.1))\n",
    "def GA_interactive(K_s = 20, Ψ = 80, Δθ = 0.3):\n",
    "    F_all = np.zeros(T+1)\n",
    "    t_all = np.zeros(T+1)\n",
    "    f_all = np.zeros(T+1)\n",
    "    e_all = np.zeros(T+1)\n",
    "    E_all = np.zeros(T+1)\n",
    "    r_all = np.zeros(T+1)\n",
    "\n",
    "    for i in range(T+1):\n",
    "        if i == 0: # ponding time\n",
    "            #The ponding time `tp` under constant rainfall intensity using the Green-Ampt infiltration equation\n",
    "            t_p = K_s * Ψ * Δθ / (r[i] * (r[i] - K_s))\n",
    "            t_all[i] = t_p\n",
    "            #Then `F` during the ponding time is:\n",
    "            F_p = r[i] * t_p # f = i during the ponding time\n",
    "            F_all[i] = F_p\n",
    "            f_all[i] = F_all[i] / t_all[i]\n",
    "            e_all[i] = r[i] - f_all[i]\n",
    "            E_all[i] = e_all[i] * t_all[i]\n",
    "            r_all[i] = r[i]\n",
    "        else:\n",
    "            if i == 1:\n",
    "                t = i\n",
    "            else:\n",
    "                t = t_all[i-1] + 1\n",
    "            t_all[i] = t\n",
    "            fun = lambda F: G(K_s, Ψ, Δθ, F, t, F_p, t_p)\n",
    "            F_all[i] = newton(fun,x0 = 3)\n",
    "\n",
    "            #F_all[i] = minimize(fun,x0 = 3)['x']\n",
    "            if F_all[i] > F_all[i-1] + r[i-1]:\n",
    "                F_all[i] = F_all[i-1] + r[i-1]\n",
    "                t_all[i] = (F_all[i] - F_p - Δθ * Ψ * np.log((F_all[i] + Δθ * Ψ)/(F_p + Δθ * Ψ)))/K_s + t_p\n",
    "\n",
    "            f_all[i] = min(r[i-1],(F_all[i] - F_all[i-1]) / (t_all[i] - t_all[i-1]))\n",
    "            e_all[i] = r[i-1] - f_all[i]\n",
    "            E_all[i] = E_all[i-1] + e_all[i] * (t_all[i] - t_all[i-1])\n",
    "            r_all[i] = \n",
    "            \n",
    "    plt.bar(np.arange(0.5,T+0.5,1),r, color = 'lightblue')\n",
    "    plt.plot(t_all,f_all, color = 'red')\n",
    "    plt.plot(t_all,e_all, color = 'blue')\n",
    "    plt.xlim([0,T])\n",
    "    plt.ylim([0,max(r)])\n"
   ]
  },
  {
   "cell_type": "code",
   "execution_count": null,
   "id": "bc6ecfef",
   "metadata": {},
   "outputs": [],
   "source": [
    "T"
   ]
  },
  {
   "cell_type": "code",
   "execution_count": 6,
   "id": "29d305f0",
   "metadata": {},
   "outputs": [
    {
     "ename": "NameError",
     "evalue": "name 't_all' is not defined",
     "output_type": "error",
     "traceback": [
      "\u001b[1;31m---------------------------------------------------------------------------\u001b[0m",
      "\u001b[1;31mNameError\u001b[0m                                 Traceback (most recent call last)",
      "\u001b[1;32m<ipython-input-6-3f369d672fba>\u001b[0m in \u001b[0;36m<module>\u001b[1;34m\u001b[0m\n\u001b[1;32m----> 1\u001b[1;33m \u001b[0mt_all\u001b[0m\u001b[1;33m\u001b[0m\u001b[1;33m\u001b[0m\u001b[0m\n\u001b[0m",
      "\u001b[1;31mNameError\u001b[0m: name 't_all' is not defined"
     ]
    }
   ],
   "source": [
    "t_all"
   ]
  },
  {
   "cell_type": "code",
   "execution_count": 8,
   "id": "0ddb47c2",
   "metadata": {},
   "outputs": [
    {
     "ename": "TypeError",
     "evalue": "unsupported operand type(s) for -: 'list' and 'int'",
     "output_type": "error",
     "traceback": [
      "\u001b[1;31m---------------------------------------------------------------------------\u001b[0m",
      "\u001b[1;31mTypeError\u001b[0m                                 Traceback (most recent call last)",
      "\u001b[1;32m<ipython-input-8-a2be40b615be>\u001b[0m in \u001b[0;36m<module>\u001b[1;34m\u001b[0m\n\u001b[1;32m----> 1\u001b[1;33m \u001b[0mK_s\u001b[0m \u001b[1;33m*\u001b[0m \u001b[0mΨ\u001b[0m \u001b[1;33m*\u001b[0m \u001b[0mΔθ\u001b[0m \u001b[1;33m/\u001b[0m \u001b[1;33m(\u001b[0m\u001b[0mr\u001b[0m \u001b[1;33m*\u001b[0m \u001b[1;33m(\u001b[0m\u001b[0mr\u001b[0m \u001b[1;33m-\u001b[0m \u001b[0mK_s\u001b[0m\u001b[1;33m)\u001b[0m\u001b[1;33m)\u001b[0m\u001b[1;33m\u001b[0m\u001b[1;33m\u001b[0m\u001b[0m\n\u001b[0m",
      "\u001b[1;31mTypeError\u001b[0m: unsupported operand type(s) for -: 'list' and 'int'"
     ]
    }
   ],
   "source": [
    "K_s * Ψ * Δθ / (r * (r - K_s))"
   ]
  },
  {
   "cell_type": "code",
   "execution_count": null,
   "id": "04ad3c58",
   "metadata": {},
   "outputs": [],
   "source": [
    "t_all[t]"
   ]
  },
  {
   "cell_type": "code",
   "execution_count": null,
   "id": "f856ba8b",
   "metadata": {},
   "outputs": [],
   "source": [
    "min(t,t_all[t])"
   ]
  },
  {
   "cell_type": "code",
   "execution_count": null,
   "id": "fd33f7a0",
   "metadata": {},
   "outputs": [],
   "source": []
  }
 ],
 "metadata": {
  "kernelspec": {
   "display_name": "Python 3",
   "language": "python",
   "name": "python3"
  },
  "language_info": {
   "codemirror_mode": {
    "name": "ipython",
    "version": 3
   },
   "file_extension": ".py",
   "mimetype": "text/x-python",
   "name": "python",
   "nbconvert_exporter": "python",
   "pygments_lexer": "ipython3",
   "version": "3.8.8"
  },
  "varInspector": {
   "cols": {
    "lenName": 16,
    "lenType": 16,
    "lenVar": 40
   },
   "kernels_config": {
    "python": {
     "delete_cmd_postfix": "",
     "delete_cmd_prefix": "del ",
     "library": "var_list.py",
     "varRefreshCmd": "print(var_dic_list())"
    },
    "r": {
     "delete_cmd_postfix": ") ",
     "delete_cmd_prefix": "rm(",
     "library": "var_list.r",
     "varRefreshCmd": "cat(var_dic_list()) "
    }
   },
   "types_to_exclude": [
    "module",
    "function",
    "builtin_function_or_method",
    "instance",
    "_Feature"
   ],
   "window_display": false
  }
 },
 "nbformat": 4,
 "nbformat_minor": 5
}
