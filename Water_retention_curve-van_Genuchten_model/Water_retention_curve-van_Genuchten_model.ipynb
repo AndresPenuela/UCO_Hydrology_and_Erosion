{
 "cells": [
  {
   "cell_type": "markdown",
   "id": "62bf8949",
   "metadata": {},
   "source": [
    "# Water retention curve - van Genuchten model\n",
    "\n",
    "Water retention curve is the relationship between the water content, $θ$ (or effective Sauration $S_e$), and the soil water potential, $ψ_m$. This curve is characteristic for different types of soil, and is also called the soil moisture characteristic.\n",
    "\n",
    "It is used to predict the soil water storage, water supply to the plants or available water (field capacity - wilting point). \n",
    "\n",
    "The water retention curve can partially obtained in the lab: basically this is done by applying a given suction to a saturated soil sample and then we measure the volume of water that the soil loses. In this way we estimate the content water content for a given suction pressure. However, in this way we only obtain a limited number of measurements or points of the curve. To obtain the whole curve we need a model that best fit the points.\n",
    "\n",
    "The water retention curve can be obtained by several models, one of them known as the Van Genuchten model:\n",
    "\n",
    "$$\n",
    "S_{e} = \\left[\\frac{1}{1 + (-\\alpha\\psi_{m})^n}\\right]^m\\\n",
    "$$\n",
    "\n",
    "where $\\alpha$ is a parameter of scale and $m$ and $n$ are parameters of shape. In general, $m = 1 - 1/n$ \n",
    "\n",
    "## Excercise 1\n",
    "\n",
    "In the lab using a pressure chamber we have measured the effective saturation $S_e$ of a soil sample for the following suction pressures ($ψ_m$): -20, -60, -300, -800, -5000, -10000 cm and we have obtained the following values for $S_e$: 0.951, 0.914, 0.432, 0.172, 0.042, 0.023\n",
    "\n",
    "<left><img src=\"pressure_chamber.jpg\" width=\"400px\">\n",
    "\n",
    "**Playing with the parameters $\\alpha$ and $n$ try to find the best fit between the observed points and the modelled curve**\n",
    "    \n",
    "🚨 in order to run the code, like in the box below, place the mouse pointer in the cell, then click on “▶ Run” button above or press shift + enter"
   ]
  },
  {
   "cell_type": "code",
   "execution_count": 1,
   "id": "ece9e597",
   "metadata": {},
   "outputs": [
    {
     "data": {
      "application/vnd.jupyter.widget-view+json": {
       "model_id": "aff1ff52df0c4b46a7c1ebaf59598705",
       "version_major": 2,
       "version_minor": 0
      },
      "text/plain": [
       "interactive(children=(FloatSlider(value=0.004, description='α', max=0.05, step=0.01), FloatSlider(value=1.2, d…"
      ]
     },
     "metadata": {},
     "output_type": "display_data"
    }
   ],
   "source": [
    "import numpy as np\n",
    "import matplotlib.pyplot as plt\n",
    "from ipywidgets import interact # to create interactive elements and figures\n",
    "\n",
    "Ψ_m_obs = np.array([20,60,300,800,5000,10000])\n",
    "S_e_obs = np.array([0.951,0.914,0.432,0.172,0.042,0.023]) \n",
    "\n",
    "Ψ_m_sim = np.arange(1, 100000+1,1)\n",
    "\n",
    "def vonGenuchten(Ψ_m, α, n, *args):\n",
    "    \n",
    "    m = 1 - 1/n\n",
    "    \n",
    "    if args:\n",
    "        θ_r = args[0]\n",
    "        θ_s = args[1]\n",
    "        θ = θ_r + (θ_s - θ_r)*(1 / (1 + (-α * -Ψ_m)**n))**m\n",
    "        result = θ\n",
    "    else:\n",
    "        S_e = (1 / (1 + (-α * -Ψ_m)**n))**m\n",
    "        result = S_e\n",
    "    \n",
    "    return result\n",
    "\n",
    "@interact(α = (0,0.05,0.01), n = (1,4,0.1))\n",
    "def interactive_vonGenuchten_1(α = 0.004, n = 1.2):\n",
    "    \n",
    "    S_e_sim = vonGenuchten(Ψ_m_sim, α, n)\n",
    "    \n",
    "    MSE = np.square(np.subtract(S_e_obs,vonGenuchten(Ψ_m_obs, α, n))).mean() \n",
    "    RMSE = np.sqrt(MSE)\n",
    "\n",
    "    ### Plot of the data and best fit line\n",
    "    plt.figure(figsize=(8,4)) # to define the plot size\n",
    "    plt.scatter(Ψ_m_obs, S_e_obs, label = 'measured')\n",
    "    plt.plot(Ψ_m_sim, S_e_sim, label = 'simulated')\n",
    "    plt.ylabel('Volumetric water content [vol/vol]')\n",
    "    plt.xlabel('Matric potential [|cm|]'); plt.xscale(\"log\")\n",
    "    plt.title('Goodness of fit (RMSE) = %.3f' %RMSE) ;plt.legend()\n",
    "    plt.show()\n"
   ]
  },
  {
   "cell_type": "markdown",
   "id": "e920c1e7",
   "metadata": {},
   "source": [
    "## Excercise 2\n",
    "Now we have modelled the water retention curve for **three different soil textures, sand, loam and clay**, using some typical values for the parameters of the van Genuchten model. \n",
    "\n",
    "<left><img src=\"soil_textures.png\" width=\"400px\">\n",
    "\n",
    "Please notice that now we represent the curve in two different ways, one representing $S_e$ in the y axis and another one using the soil water content ($\\theta$). This second way comes from writing down the equation as follows:\n",
    "\n",
    "$$\n",
    "S_{e} = \\frac{\\theta - \\theta_r}{\\theta_s - \\theta_r} = \\left[\\frac{1}{1 + (-\\alpha\\psi_{m})^n}\\right]^m\\\n",
    "$$\n",
    "\n",
    "\n",
    "$$\n",
    "\\theta = \\theta_r + (\\theta_s - \\theta_r) \\left[\\frac{1}{1 + (-\\alpha\\psi_{m})^n}\\right]^m\\\n",
    "$$\n",
    "\n",
    "where $\\theta_r$ is the residual water content (water attached tightly to soil particles and that the plant cannot use) and $\\theta_s$ is the saturation water content (when all the soil pores are full of water).\n",
    "\n",
    "**- Which soil texture fits better to the observed values?**\n",
    "\n",
    "**- Which soil texture has more available water for plants?**\n",
    "\n",
    "**- and a higher porosity?**"
   ]
  },
  {
   "cell_type": "code",
   "execution_count": 2,
   "id": "cc062be9",
   "metadata": {},
   "outputs": [
    {
     "data": {
      "application/vnd.jupyter.widget-view+json": {
       "model_id": "5bb995b08dca43d79f06ee4d9ebbe92e",
       "version_major": 2,
       "version_minor": 0
      },
      "text/plain": [
       "interactive(children=(Dropdown(description='soil_type', options=('sand', 'loam', 'clay'), value='sand'), Outpu…"
      ]
     },
     "metadata": {},
     "output_type": "display_data"
    }
   ],
   "source": [
    "@interact(soil_type = ['sand', 'loam', 'clay'])\n",
    "def interactive_vonGenuchten_2(soil_type = 'sand'):\n",
    "    \n",
    "    if soil_type == 'sand':\n",
    "        α = 0.0124; n = 6.66; θ_r = 0.01; θ_s = 0.26\n",
    "    elif soil_type == 'loam':\n",
    "        α = 0.0081; n = 2.1632; θ_r = 0.05; θ_s = 0.43\n",
    "    elif soil_type == 'clay':\n",
    "        α = 0.0066; n = 1.8601; θ_r = 0.20; θ_s = 0.47 \n",
    "    \n",
    "    θ_obs = S_e_obs * (θ_s - θ_r) + θ_r\n",
    "    \n",
    "    θ_sim = vonGenuchten(Ψ_m_sim, α, n, θ_r, θ_s)\n",
    "    S_e_sim = (θ_sim - θ_r)/(θ_s - θ_r)\n",
    "    \n",
    "    field_capacity = vonGenuchten(100, α, n, θ_r, θ_s); wilting_point = vonGenuchten(15000, α, n, θ_r, θ_s)\n",
    "    field_capacity_S_e = (field_capacity - θ_r)/(θ_s - θ_r); wilting_point_S_e = (wilting_point - θ_r)/(θ_s - θ_r)\n",
    "\n",
    "    plt.figure(figsize=(15,4)) # to define the plot size\n",
    "    ### Plot of Effective saturation (Se) vs Matric potential (Ψ)\n",
    "    plt.subplot(1,2,1)\n",
    "    plt.scatter(Ψ_m_obs, S_e_obs, label = 'measured')\n",
    "    plt.plot(Ψ_m_sim, S_e_sim, label = 'simulated')\n",
    "    plt.vlines(100,0,field_capacity_S_e,linestyle= '--',color = 'g', label = 'field capacity')\n",
    "    plt.vlines(15000,0,wilting_point_S_e,linestyle= '--',color = 'r', label = 'wilting point')\n",
    "    plt.hlines(field_capacity_S_e,0,100,linestyle= '--',color = 'g')\n",
    "    plt.hlines(wilting_point_S_e,0,15000,linestyle= '--',color = 'r')\n",
    "    plt.ylabel('Se [vol/vol]')\n",
    "    plt.xlabel('Ψm [|cm|]'); plt.xscale(\"log\")\n",
    "    plt.title('Effective saturation (Se) vs Matric potential (Ψ)');plt.legend()\n",
    "    \n",
    "    ### Plot of Soil water content (θ) vs Matric potential (Ψ)\n",
    "    plt.subplot(1,2,2)\n",
    "    plt.scatter(Ψ_m_obs, θ_obs, label = 'measured')\n",
    "    plt.plot(Ψ_m_sim, θ_sim, label = 'simulated')\n",
    "    plt.vlines(100,0,field_capacity,linestyle= '--',color = 'g', label = 'field capacity')\n",
    "    plt.vlines(15000,0,wilting_point,linestyle= '--',color = 'r', label = 'wilting point')\n",
    "    plt.hlines(field_capacity,0,100,linestyle= '--',color = 'g')\n",
    "    plt.hlines(wilting_point,0,15000,linestyle= '--',color = 'r')\n",
    "    plt.ylabel('θ [vol/vol]'); plt.ylim([0,1])\n",
    "    plt.xlabel('Ψm [|cm|]'); plt.xscale(\"log\")\n",
    "    plt.title('Soil water content (θ) vs Matric potential (Ψ)');plt.legend()\n",
    "    plt.show()"
   ]
  },
  {
   "cell_type": "markdown",
   "id": "68f09a0d",
   "metadata": {},
   "source": [
    "## Excercise 3\n",
    "Using the version of the van Genuchten equation to calculate $\\theta$:\n",
    "\n",
    "$$\n",
    "\\theta = \\theta_r + (\\theta_s - \\theta_r) \\left[\\frac{1}{1 + (-\\alpha\\psi_{m})^n}\\right]^m\\\n",
    "$$\n",
    "\n",
    "where $\\alpha$ is a parameter of scale, $m$ and $n$ are parameters of shape, $\\theta_r$ is the residual water content and $\\theta_s$ is the saturation water content.\n",
    "\n",
    "**Try to find the combination of parameters that for you would be an ideal soil for agriculture.**\n",
    "\n",
    "<left><img src=\"ideal_soil.png\" width=\"400px\">"
   ]
  },
  {
   "cell_type": "code",
   "execution_count": 5,
   "id": "d47d861d",
   "metadata": {},
   "outputs": [
    {
     "data": {
      "application/vnd.jupyter.widget-view+json": {
       "model_id": "b7c4b1fe15294a449f48fb50933040e3",
       "version_major": 2,
       "version_minor": 0
      },
      "text/plain": [
       "interactive(children=(FloatSlider(value=0.01, description='p1', max=0.1, min=0.01, step=0.01), FloatSlider(val…"
      ]
     },
     "metadata": {},
     "output_type": "display_data"
    }
   ],
   "source": [
    "@interact(p1 = (0.01,0.1,0.01), p2 = (1,4,0.1), p3 = (0,0.25,0.05), p4 = (0.30,0.6,0.05))\n",
    "def interactive_vonGenuchten_3(p1 = 0.004, p2 = 1.2, p3 = 0.05, p4 = 0.3):\n",
    "\n",
    "    θ_sim = vonGenuchten(Ψ_m_sim, p1, p2, p3, p4)\n",
    "    field_capacity = vonGenuchten(100, p1, p2, p3, p4); wilting_point = vonGenuchten(15000, p1, p2, p3, p4)\n",
    "    available_water = field_capacity - wilting_point\n",
    "    \n",
    "    ### Plot of Soil water content (θ) vs Matric potential (Ψ)\n",
    "    plt.figure(figsize=(6,4)) # to define the plot size\n",
    "    plt.plot(Ψ_m_sim, θ_sim)\n",
    "    plt.vlines(100,0,field_capacity,linestyle= '--',color = 'g', label = 'field capacity')\n",
    "    plt.vlines(15000,0,wilting_point,linestyle= '--',color = 'r', label = 'wilting point')\n",
    "    plt.hlines(field_capacity,0,100,linestyle= '--',color = 'g')\n",
    "    plt.hlines(wilting_point,0,15000,linestyle= '--',color = 'r')\n",
    "    plt.ylabel('θ [vol/vol]'); plt.ylim([0,1])\n",
    "    plt.xlabel('Ψm [|cm|]'); plt.xscale(\"log\")\n",
    "    plt.title('Available water (field capacity - wilting point) = %.3f' %available_water);plt.legend()\n",
    "    plt.show()"
   ]
  },
  {
   "cell_type": "markdown",
   "id": "43e3f31c",
   "metadata": {},
   "source": [
    "**- what is the maximum value of available water that you can reach by playing with the values of the parameters? are you able to get a value over 0.4?**\n",
    "\n",
    "**- what combination of parameters represent the worst soil for agriculture?**\n",
    "\n",
    "**- are you able to guess what parameters (p1, p2, p3, p4) correspond to the residual water content, saturated water content and to the parameters of the van Genuchten equation ($\\alpha$ and $n$)?**"
   ]
  }
 ],
 "metadata": {
  "kernelspec": {
   "display_name": "Python 3 (ipykernel)",
   "language": "python",
   "name": "python3"
  },
  "language_info": {
   "codemirror_mode": {
    "name": "ipython",
    "version": 3
   },
   "file_extension": ".py",
   "mimetype": "text/x-python",
   "name": "python",
   "nbconvert_exporter": "python",
   "pygments_lexer": "ipython3",
   "version": "3.9.12"
  },
  "varInspector": {
   "cols": {
    "lenName": 16,
    "lenType": 16,
    "lenVar": 40
   },
   "kernels_config": {
    "python": {
     "delete_cmd_postfix": "",
     "delete_cmd_prefix": "del ",
     "library": "var_list.py",
     "varRefreshCmd": "print(var_dic_list())"
    },
    "r": {
     "delete_cmd_postfix": ") ",
     "delete_cmd_prefix": "rm(",
     "library": "var_list.r",
     "varRefreshCmd": "cat(var_dic_list()) "
    }
   },
   "types_to_exclude": [
    "module",
    "function",
    "builtin_function_or_method",
    "instance",
    "_Feature"
   ],
   "window_display": false
  }
 },
 "nbformat": 4,
 "nbformat_minor": 5
}
