{
 "cells": [
  {
   "cell_type": "markdown",
   "metadata": {},
   "source": [
    "# Sound Wave 🎵\n",
    "In this Notebook, we will see how we can plot the sound wave equation and how we can change the characteristics of the wave and sound interactively using ***Ipywidgets*** along with other libraries such as NumPy and Matplotlib.\n",
    "\n",
    "## 1. Import Libraries\n",
    "To use certain functions, we first need to import the libraries (or collection of functions) that contain those functions.\n",
    "\n",
    "🚨 **Important**: To run the code, like the one in the cell below this text, click on the cell with your mouse and then press the \"**▶ Run**\" button that you will see in the menu above, or you can also press the **shift** key (holding it down) **+ enter** on your keyboard."
   ]
  },
  {
   "cell_type": "code",
   "execution_count": 2,
   "metadata": {},
   "outputs": [],
   "source": [
    "import numpy as np  # Math functions and array handling\n",
    "import matplotlib.pyplot as plt  # Plotting graphs\n",
    "from ipywidgets import interact  # Interactive widgets\n",
    "from IPython.display import display, Audio  # Multimedia display (audio)\n",
    "from util.sound_wave import sound_wave_ref, sound_wave_blind  # Import sound waves"
   ]
  },
  {
   "cell_type": "markdown",
   "metadata": {},
   "source": [
    "## 2. Define the Equation of a Sound Wave\n",
    "<left><img src=\"images/Standing_wave.gif\" width=\"400px\">\n",
    "\n",
    "A sound wave can be represented by a **sine curve** defined by the parameters: **amplitude, phase, and frequency**. For this, we use the following equation:\n",
    "\n",
    "$y(x) = A \\sin( 2 \\pi (\\nu x + \\phi ))$\n",
    "\n",
    "where\n",
    "\n",
    "$A = amplitude$\n",
    "\n",
    "$\\phi = phase$\n",
    "\n",
    "$\\nu = frequency$\n",
    "\n",
    "In the cell below, we will create:\n",
    "- three variables to define the amplitude, phase, and frequency: ***amp, phase, frec***\n",
    "- a vector (or array) to define the points where the curve equation will be calculated: ***x***\n",
    "- the curve equation (as a function of *x*): ***y***\n",
    "\n",
    "We will use some of the functions included in the **Numpy** library, specifically:\n",
    "- **arange**: to generate a vector of values from 0 to 1 in intervals of 0.01\n",
    "- **pi**: to get the value of pi.\n",
    "- **sin**: sine function\n",
    "\n",
    "⚡ **Exercise:** Create a function called `sound_wave` according to the info above."
   ]
  },
  {
   "cell_type": "code",
   "execution_count": null,
   "metadata": {},
   "outputs": [],
   "source": []
  },
  {
   "cell_type": "markdown",
   "metadata": {},
   "source": [
    "⚡ **Exercise:** Now plot the sound wave values (y axis) that results of applying the following parameter values (x axis values range from 0 to 1 in intervals of 0.01):"
   ]
  },
  {
   "cell_type": "code",
   "execution_count": null,
   "metadata": {},
   "outputs": [],
   "source": [
    "amp = 10\n",
    "phase = 0 \n",
    "frec = 10 "
   ]
  },
  {
   "cell_type": "markdown",
   "metadata": {},
   "source": [
    "### Exercise 1\n",
    "We have defined a reference sound wave that we will import and plot (black curve)."
   ]
  },
  {
   "cell_type": "code",
   "execution_count": null,
   "metadata": {},
   "outputs": [],
   "source": [
    "x_ref, y_ref = sound_wave_ref() # assign the x and y values of the reference wave to the variables x_ref and y_ref respectively\n",
    "\n",
    "# Plot the sound waves\n",
    "plt.plot(x_ref,y_ref, color = 'black') # to plot the reference wave (in black)\n",
    "plt.ylim(-20, 20)\n",
    "plt.show()"
   ]
  },
  {
   "cell_type": "markdown",
   "metadata": {},
   "source": [
    "In the next cell, write down the code so you can play with the values of amplitude, phase, and frequency to try to adjust the simulated curve obtained with the  `sound_wave` model as closely as possible to the black reference curve. Remember to run the cell after changing the values so that you can visualize the changes."
   ]
  },
  {
   "cell_type": "code",
   "execution_count": null,
   "metadata": {},
   "outputs": [],
   "source": []
  },
  {
   "cell_type": "markdown",
   "metadata": {},
   "source": [
    "### Exercise 2:\n",
    "Now run the cell below and try the same thing but using sliders."
   ]
  },
  {
   "cell_type": "code",
   "execution_count": null,
   "metadata": {},
   "outputs": [],
   "source": [
    "# First, define the parameters we want to modify interactively (p1, p2, p3)\n",
    "# and the range of possible values, for example: (1,1,0.1) = values between 1 and 1 in intervals of 0.1\n",
    "@interact(p1 = (0.1, 1, 0.1), p2 = (0.1, 1, 0.05), p3 = (0.1, 1, 0.01))\n",
    "def interactive_wave(p1 = 0.1, p2 = 0.1, p3 = 0.1):\n",
    "    x,y = sound_wave_blind(p1,p2,p3)\n",
    "    plt.plot(x, y)\n",
    "    plt.plot(x_ref, y_ref, color = 'black')\n",
    "    plt.ylim((-20, 20))\n",
    "    plt.show()"
   ]
  },
  {
   "cell_type": "markdown",
   "metadata": {},
   "source": [
    "⚡Much easier now, right? Can you guess what sound wave parameter (`amp`, `phase`, and `frec`) correspond to `p1`, `p2` and `p3`?"
   ]
  },
  {
   "cell_type": "markdown",
   "metadata": {},
   "source": [
    "### Exercise 3\n",
    "How about not just seeing 👀 but also **hearing** 👂 the wave? You can change the frequency of the wave (lower frequency values produce deeper sounds, and higher values produce higher-pitched sounds). After changing the frequency value, remember to click the Play button to hear the sound of the wave."
   ]
  },
  {
   "cell_type": "code",
   "execution_count": null,
   "metadata": {},
   "outputs": [],
   "source": [
    "# First, define the parameter we want to modify interactively (frec_Hz) and the possible values\n",
    "@interact(frec_Hz = [20,100,200, 1000, 2000, 20000]) \n",
    "# Define the \"interactive_wave\" function to plot the graph\n",
    "def interactive_wave(frec_Hz = 50): # within parentheses, set the initial value of the interactive parameter\n",
    "    x = np.arange(0,1,1/44100) # x axis from 0 to 1 with a 1/500 step\n",
    "    y = amp * np.sin(2 * np.pi * (frec_Hz * x + fase))\n",
    "    plt.figure(figsize=(20,3))\n",
    "    plt.plot(x,y)\n",
    "    display(Audio(y, rate=44100)) "
   ]
  },
  {
   "cell_type": "markdown",
   "metadata": {},
   "source": [
    "By modifying the code above, see if you have **\"super hearing\"** and can hear sounds with frequencies below 20 Hz or above 20,000 Hz (the human audible spectrum = 20-20,000 Hz)."
   ]
  },
  {
   "cell_type": "code",
   "execution_count": null,
   "metadata": {},
   "outputs": [],
   "source": []
  }
 ],
 "metadata": {
  "kernelspec": {
   "display_name": "Python 3",
   "language": "python",
   "name": "python3"
  },
  "language_info": {
   "codemirror_mode": {
    "name": "ipython",
    "version": 3
   },
   "file_extension": ".py",
   "mimetype": "text/x-python",
   "name": "python",
   "nbconvert_exporter": "python",
   "pygments_lexer": "ipython3",
   "version": "3.8.8"
  },
  "varInspector": {
   "cols": {
    "lenName": 16,
    "lenType": 16,
    "lenVar": 40
   },
   "kernels_config": {
    "python": {
     "delete_cmd_postfix": "",
     "delete_cmd_prefix": "del ",
     "library": "var_list.py",
     "varRefreshCmd": "print(var_dic_list())"
    },
    "r": {
     "delete_cmd_postfix": ") ",
     "delete_cmd_prefix": "rm(",
     "library": "var_list.r",
     "varRefreshCmd": "cat(var_dic_list()) "
    }
   },
   "types_to_exclude": [
    "module",
    "function",
    "builtin_function_or_method",
    "instance",
    "_Feature"
   ],
   "window_display": false
  }
 },
 "nbformat": 4,
 "nbformat_minor": 4
}
