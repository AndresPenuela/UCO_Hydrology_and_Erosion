{
 "cells": [
  {
   "cell_type": "markdown",
   "id": "62bf8949",
   "metadata": {},
   "source": [
    "# Water retention curve - van Genuchten model\n",
    "\n",
    "Water retention curve is the relationship between the water content, $θ$ (or effective Sauration $S_e$), and the soil water potential, $ψ_m$. This curve is characteristic for different types of soil, and is also called the soil moisture characteristic.\n",
    "\n",
    "<img src=\"images/water_retention_curve.png\" width=\"400px\">\n",
    "\n",
    "It is used to predict the soil water storage, water supply to the plants or available water (field capacity - wilting point). \n",
    "\n",
    "The water retention curve is represented by the Van Genuchten model using the following equation:\n",
    "\n",
    "$$\n",
    "S_{e} = \\left[\\frac{1}{1 + (-\\alpha\\psi_{m})^n}\\right]^m\\\n",
    "$$\n",
    "\n",
    "where $\\alpha$ is a parameter of scale and $m$ and $n$ are parameters of shape. In general, $m = 1 - 1/n$ \n",
    "\n",
    "Here, we are going to use an alternative way of writing the equation by using the definition of $S_e$:\n",
    "\n",
    "$$\n",
    "S_{e} = \\frac{\\theta - \\theta_r}{\\theta_s - \\theta_r}\n",
    "$$\n",
    "\n",
    "so our original equation now becomes:\n",
    "\n",
    "$$\n",
    "\\theta = \\theta_r + (\\theta_s - \\theta_r) \\left[\\frac{1}{1 + (-\\alpha\\psi_{m})^n}\\right]^m\\\n",
    "$$\n",
    "\n",
    "where $\\theta_r$ is the residual water content (water attached tightly to soil particles and that the plant cannot use) and $\\theta_s$ is the saturation water content (when all the soil pores are full of water).\n",
    "\n",
    "### First of all, import the necessary libraries\n",
    "🚨 in order to run the code, like in the box below, place the mouse pointer in the cell, then click on “▶ Run” button above or press shift + enter"
   ]
  },
  {
   "cell_type": "code",
   "execution_count": 1,
   "id": "d5b3ee34",
   "metadata": {},
   "outputs": [],
   "source": [
    "import numpy as np  # Import NumPy for numerical operations\n",
    "import matplotlib.pyplot as plt  # Import Matplotlib for plotting\n",
    "from ipywidgets import interact  # Import interact to create interactive widgets (e.g. sliders)\n",
    "from util.interactive_vanGenuchten import vanGenuchten, interactive_vanGenuchten_2, interactive_vanGenuchten_3 # import interactive plots "
   ]
  },
  {
   "cell_type": "markdown",
   "id": "68f09a0d",
   "metadata": {},
   "source": [
    "## Excercise - Guess-the-parameter challenge\n",
    "\n",
    "In this exercise you should try to **guess the name of the model parameters just by playing with the their values**. For this purpose, you can use the sliders to change their values and observe how the water retention curve reacts.\n",
    "\n",
    "This is intended to promote inquiry-based learning, where students learn by experimenting and making observations rather than being explicitly told the information. By manipulating the parameters and observing the results, they actively engage in the learning process, enhancing their understanding through trial and error.\n",
    "\n",
    "**Before you try to guess the parameters, try to find the combination of parameters that maximize the water available for plants.**\n",
    "\n",
    "<left><img src=\"images/ideal_soil.png\" width=\"400px\">"
   ]
  },
  {
   "cell_type": "code",
   "execution_count": 3,
   "id": "d47d861d",
   "metadata": {},
   "outputs": [
    {
     "data": {
      "application/vnd.jupyter.widget-view+json": {
       "model_id": "d0858c3f2b2a4971b1e4393e48be175a",
       "version_major": 2,
       "version_minor": 0
      },
      "text/plain": [
       "interactive(children=(FloatSlider(value=0.01, description='p1', max=0.1, min=0.01, step=0.01), FloatSlider(val…"
      ]
     },
     "metadata": {},
     "output_type": "display_data"
    },
    {
     "data": {
      "text/plain": [
       "<function util.interactive_vanGenuchten.interactive_vanGenuchten_3(p1=0.004, p2=1.2, p3=0.05, p4=0.3)>"
      ]
     },
     "execution_count": 3,
     "metadata": {},
     "output_type": "execute_result"
    }
   ],
   "source": [
    "interact(interactive_vanGenuchten_3,p1 = (0.01,0.1,0.01), p2 = (1,4,0.1), p3 = (0,0.25,0.05), p4 = (0.30,0.6,0.05))"
   ]
  },
  {
   "cell_type": "markdown",
   "id": "43e3f31c",
   "metadata": {},
   "source": [
    "⚡ **what is the maximum value of available water that you can reach by playing with the values of the parameters?**\n",
    "\n",
    "⚡ **what combination of parameters represent the worst soil for agriculture?** \n",
    "\n",
    "⚡ **are you able to guess what parameters (p1, p2, p3, p4) correspond to: soil water content at saturation ($\\theta_s$) and resdiual water content ($\\theta_r$)?**"
   ]
  },
  {
   "cell_type": "code",
   "execution_count": null,
   "id": "b19c70d5",
   "metadata": {},
   "outputs": [],
   "source": []
  }
 ],
 "metadata": {
  "kernelspec": {
   "display_name": "Python 3",
   "language": "python",
   "name": "python3"
  },
  "language_info": {
   "codemirror_mode": {
    "name": "ipython",
    "version": 3
   },
   "file_extension": ".py",
   "mimetype": "text/x-python",
   "name": "python",
   "nbconvert_exporter": "python",
   "pygments_lexer": "ipython3",
   "version": "3.8.8"
  },
  "varInspector": {
   "cols": {
    "lenName": 16,
    "lenType": 16,
    "lenVar": 40
   },
   "kernels_config": {
    "python": {
     "delete_cmd_postfix": "",
     "delete_cmd_prefix": "del ",
     "library": "var_list.py",
     "varRefreshCmd": "print(var_dic_list())"
    },
    "r": {
     "delete_cmd_postfix": ") ",
     "delete_cmd_prefix": "rm(",
     "library": "var_list.r",
     "varRefreshCmd": "cat(var_dic_list()) "
    }
   },
   "types_to_exclude": [
    "module",
    "function",
    "builtin_function_or_method",
    "instance",
    "_Feature"
   ],
   "window_display": false
  }
 },
 "nbformat": 4,
 "nbformat_minor": 5
}
