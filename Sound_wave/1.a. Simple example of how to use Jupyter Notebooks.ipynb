{
 "cells": [
  {
   "cell_type": "markdown",
   "metadata": {},
   "source": [
    "# Sound wave example\n",
    "\n",
    "# 1. Import libraries\n",
    "To run some of the tools offered by Python we need to import libraries (or toolboxes). Most of them come installed with the Anaconda package, so we only need to import them by running the code below (🚨 in order to run the code, like in the box below, place the mouse pointer in the cell, then click on “▶ Run” button above or press shift + enter)"
   ]
  },
  {
   "cell_type": "code",
   "execution_count": 1,
   "metadata": {},
   "outputs": [
    {
     "ename": "ModuleNotFoundError",
     "evalue": "No module named 'bqplot'",
     "output_type": "error",
     "traceback": [
      "\u001b[1;31m---------------------------------------------------------------------------\u001b[0m",
      "\u001b[1;31mModuleNotFoundError\u001b[0m                       Traceback (most recent call last)",
      "\u001b[1;32m<ipython-input-1-3d44e37e4f6a>\u001b[0m in \u001b[0;36m<module>\u001b[1;34m\u001b[0m\n\u001b[0;32m      5\u001b[0m \u001b[1;32mfrom\u001b[0m \u001b[0mipywidgets\u001b[0m \u001b[1;32mimport\u001b[0m \u001b[0mFloatSlider\u001b[0m\u001b[1;33m,\u001b[0m \u001b[0mVBox\u001b[0m\u001b[1;33m\u001b[0m\u001b[1;33m\u001b[0m\u001b[0m\n\u001b[0;32m      6\u001b[0m \u001b[1;32mfrom\u001b[0m \u001b[0mIPython\u001b[0m\u001b[1;33m.\u001b[0m\u001b[0mdisplay\u001b[0m \u001b[1;32mimport\u001b[0m \u001b[0mdisplay\u001b[0m\u001b[1;33m,\u001b[0m \u001b[0mAudio\u001b[0m\u001b[1;33m,\u001b[0m \u001b[0mclear_output\u001b[0m\u001b[1;33m\u001b[0m\u001b[1;33m\u001b[0m\u001b[0m\n\u001b[1;32m----> 7\u001b[1;33m \u001b[1;32mfrom\u001b[0m \u001b[0mbqplot\u001b[0m \u001b[1;32mimport\u001b[0m \u001b[0mpyplot\u001b[0m \u001b[1;32mas\u001b[0m \u001b[0mplt\u001b[0m\u001b[1;33m\u001b[0m\u001b[1;33m\u001b[0m\u001b[0m\n\u001b[0m\u001b[0;32m      8\u001b[0m \u001b[1;32mfrom\u001b[0m \u001b[0mbqplot\u001b[0m \u001b[1;32mimport\u001b[0m \u001b[0mAxis\u001b[0m\u001b[1;33m\u001b[0m\u001b[1;33m\u001b[0m\u001b[0m\n\u001b[0;32m      9\u001b[0m \u001b[1;32mfrom\u001b[0m \u001b[0mbqplot\u001b[0m \u001b[1;32mimport\u001b[0m \u001b[0mLinearScale\u001b[0m\u001b[1;33m\u001b[0m\u001b[1;33m\u001b[0m\u001b[0m\n",
      "\u001b[1;31mModuleNotFoundError\u001b[0m: No module named 'bqplot'"
     ]
    }
   ],
   "source": [
    "# Library for scientific computing\n",
    "import numpy as np\n",
    "# Libraries for visualization\n",
    "import ipywidgets as widgets\n",
    "from ipywidgets import FloatSlider, VBox\n",
    "from IPython.display import display, Audio, clear_output\n",
    "from bqplot import pyplot as plt\n",
    "from bqplot import Axis\n",
    "from bqplot import LinearScale\n",
    "from bqplot import pyplot as plt\n",
    "from bqplot.traits import *\n",
    "\n",
    "warnings.filterwarnings('ignore') # to ignore warning messages"
   ]
  },
  {
   "cell_type": "markdown",
   "metadata": {},
   "source": [
    "# 2. Data\n",
    "<left><img src=\"Standing_wave.gif\" width=\"400px\">\n",
    "\n",
    "In this example we will define and then plot a sound wave which can be represented as a sine curve with a certain amplitude, phase and frequency using the following equation:\n",
    "\n",
    "$y(x) = A \\sin(2 \\pi(\\nu x + \\phi ))$\n",
    "\n",
    "where\n",
    "\n",
    "$A = amplitude$\n",
    "\n",
    "$\\phi = phase$\n",
    "\n",
    "$\\nu = frequency$\n",
    "\n"
   ]
  },
  {
   "cell_type": "markdown",
   "metadata": {},
   "source": [
    "### Definition of the sine curve\n",
    "In the cell below we use three variables to define the initial values of the parameters amplitude, phase and frequency, a vector *x* to define the points at which the curve will be evaluated, and a vector *y(x)* to define the curve. For this purpose, we use some of the functions of the imported Numpy library, e.g. *np.linspace* to generate evenly spaced numbers over a specified interval or *np.pi* to get the value of π. (🚨 again, in order to run the code place the mouse pointer in the cell below, then click on “▶ Run” button above or press shift + enter. Please make sure that you run each cell of code as you advance on the Notebook)"
   ]
  },
  {
   "cell_type": "code",
   "execution_count": null,
   "metadata": {},
   "outputs": [],
   "source": [
    "amp = 10 # amplitude\n",
    "phase = 1 # phase\n",
    "freq = 10 # frequency\n",
    "x = np.linspace(0,1,500) # x axis from 0 to 1 with a 1/500 step\n",
    "y = amp * np.sin(2 * np.pi * (freq * x + phase))"
   ]
  },
  {
   "cell_type": "markdown",
   "metadata": {},
   "source": [
    "# 3. Visualization of the data\n",
    "### Plot of the curve\n",
    "Using the imported visualization libraries we can now plot the sine curve using the parameter values (amplitude, phase and frequency) defined in the cell above."
   ]
  },
  {
   "cell_type": "code",
   "execution_count": null,
   "metadata": {},
   "outputs": [],
   "source": [
    "# First, let's create a scale for the x attribute, and a scale for the y attribute\n",
    "x_sc_1 = LinearScale(min=0,max=1)\n",
    "y_sc_1 = LinearScale(min=-20,max=20)\n",
    "# Then we can define some of the features of the plot axes such as their labels.\n",
    "x_ax_1 = Axis(label='x', scale=x_sc_1)\n",
    "y_ax_1 = Axis(label='y', scale=y_sc_1, orientation='vertical')\n",
    "# Finally we can define other additional features of the figure and plot the sine curve\n",
    "fig_1 = plt.figure(scales={'x': x_sc_1, 'y': y_sc_1}, axes=[x_ax_1, y_ax_1], title = 'Sine curve', \n",
    "                   layout={'min_width': '1000px', 'max_height': '300px'})\n",
    "sin_wave_1 = plt.plot(x,y) # Plot the sine curve\n",
    "fig_1"
   ]
  },
  {
   "cell_type": "markdown",
   "metadata": {},
   "source": [
    "### Excercise 1\n",
    "We will now import a sound wave (displayed in a black curve) and look at how the sine curve (blue) compare to it. The goodness-of-fit between the two curves will be quantified by the root mean square error (RMSE)"
   ]
  },
  {
   "cell_type": "code",
   "execution_count": null,
   "metadata": {},
   "outputs": [],
   "source": [
    "# Black curve\n",
    "from sound_wave import sound_wave\n",
    "\n",
    "xk,yk = sound_wave()\n",
    "\n",
    "#RMSE\n",
    "RMSE = np.sqrt((y - yk) ** 2).mean()\n",
    "\n",
    "# Plot\n",
    "fig_2 = plt.figure(scales={'x': x_sc_1, 'y': y_sc_1}, axes=[x_ax_1, y_ax_1], title = 'RMSE = '+str(\"%.2f\" % RMSE), \n",
    "                   layout={'min_width': '1000px', 'max_height': '300px'}, animation_duration = 1000)\n",
    "sine_curve_2 = plt.plot(x,y)\n",
    "plt.plot(xk,yk,'k')\n",
    "fig_2"
   ]
  },
  {
   "cell_type": "markdown",
   "metadata": {},
   "source": [
    "Now you can change the values of amplitude, phase and frequency in the code cell below, trying to better fit the black curve (that is, to achieve RMSE = 0). Remember to run the cell after changing the values, so that you can see the changes in the figure above."
   ]
  },
  {
   "cell_type": "code",
   "execution_count": null,
   "metadata": {},
   "outputs": [],
   "source": [
    "amp = 5\n",
    "phase = 1\n",
    "freq = 10\n",
    "\n",
    "###############################################\n",
    "sine_curve_2.y = amp * np.sin(2 * np.pi * (freq * x + phase))\n",
    "\n",
    "RMSE = np.sqrt(((amp * np.sin(2 * np.pi * (freq * x + phase)) - yk) ** 2).mean())\n",
    "fig_2.title = 'RMSE = '+str(\"%.2f\" % RMSE)"
   ]
  },
  {
   "cell_type": "markdown",
   "metadata": {},
   "source": [
    "### Excercise 2:\n",
    "Try to do the same but now using the sliders (execute the cell code below to make the slider appears). Much easier, isn't it?."
   ]
  },
  {
   "cell_type": "code",
   "execution_count": null,
   "metadata": {},
   "outputs": [],
   "source": [
    "def update_sine_curve(x,amp,freq,phase):\n",
    "    sine_curve = amp * np.sin(2 * np.pi * (freq * x + phase))\n",
    "    RMSE = np.sqrt(((sine_curve - yk) ** 2).mean())\n",
    "    return sine_curve,RMSE\n",
    "\n",
    "def update_figure(change):\n",
    "    sine_curve.y = update_sine_curve(x,amp.value,freq.value,phase.value)[0]\n",
    "    RMSE = update_sine_curve(x,amp.value,freq.value,phase.value)[1]\n",
    "    if RMSE == 0:\n",
    "        fig_3.title = 'RMSE = ' +str(\"%.2f\" % RMSE)+' Well done!!!'\n",
    "    else:\n",
    "        fig_3.title = 'RMSE = ' +str(\"%.2f\" % RMSE)\n",
    "    \n",
    "amp = widgets.FloatSlider(min=1,max=15,value=8, description = 'Amplitude: ')\n",
    "amp.observe(update_figure,'value')\n",
    "phase = widgets.FloatSlider(min=0,max=1,value=0.5, description = 'Phase: ')\n",
    "phase.observe(update_figure,'value')\n",
    "freq = widgets.FloatSlider(min=1,max=10,value=5.5, description = 'Frequency: ')\n",
    "freq.observe(update_figure,'value')\n",
    "\n",
    "# First, let's create a scale for the x attribute, and a scale for the y attribute\n",
    "x_sc = plt.LinearScale(min=0,max=1)\n",
    "y_sc = plt.LinearScale(min=-20,max=20)\n",
    "# Then we can define some of the features of the plot axes such as their labels.\n",
    "x_ax = plt.Axis(label='x', scale=x_sc)\n",
    "y_ax = plt.Axis(label='y', scale=y_sc, orientation='vertical')\n",
    "fig_3 = plt.figure(scales={'x': x_sc, 'y': y_sc}, axes=[x_ax, y_ax], \n",
    "                   title = 'RMSE = '+str(\"%.2f\" % update_sine_curve(x,amp.value,freq.value,phase.value)[1]), \n",
    "                   layout={'min_width': '900px', 'max_height': '300px'}, animation_duration = 1000)\n",
    "sine_curve = plt.plot(x,update_sine_curve(x,amp.value,freq.value,phase.value)[0])\n",
    "plt.plot(xk,yk,'k', label = 'sound wave')\n",
    "plt.xlim(0,1)\n",
    "plt.ylim(-20,20)\n",
    "sine_curve.observe(update_figure, ['x', 'y'])\n",
    "widgets.VBox([amp, freq, phase,fig_3])"
   ]
  },
  {
   "cell_type": "markdown",
   "metadata": {},
   "source": [
    "### Exercise 3\n",
    "How about not only plotting but also listenting to your curve? Check whether you have **\"super hearing\"** and you can hear sounds with frequencies lower than 20Hz (human audible spectrum = 20-20000 Hz). After changing the value of wave frequency remember to click on the Play button below to hear the sound."
   ]
  },
  {
   "cell_type": "code",
   "execution_count": null,
   "metadata": {},
   "outputs": [],
   "source": [
    "%matplotlib nbagg\n",
    "import matplotlib.pyplot as plt\n",
    "fig_4, ax = plt.subplots(1, figsize= (10,4))\n",
    "plt.suptitle('Interactive audio sine wave')\n",
    "def interactive_audio_wave(freq):\n",
    "    x = np.linspace(0,1,44100) # x axis from 0 to 1 with a 1/500 step\n",
    "    y = 10 * np.sin(2 * np.pi * (freq * x + 1))\n",
    "    display(Audio(y, rate=44100)) \n",
    "\n",
    "    ax.clear()\n",
    "    units = 'freq = {} $(Hz)$'\n",
    "    \n",
    "    ax.plot(x,y, label='your curve: '+units.format(freq))\n",
    "    ax.set_xlabel('s')\n",
    "    ax.set_ylabel('$\\psi$')\n",
    "    ax.set_ylim(-20,20)\n",
    "    ax.legend(loc=1)\n",
    "    fig_4\n",
    "  \n",
    "freq_audio = widgets.FloatSlider(min=1,max=200,value=50, description = 'Frequency (Hz): ',style = {'description_width': '300px'} ,\n",
    "                           layout={'width': '1000px'})\n",
    "\n",
    "widgets.interactive(interactive_audio_wave, freq=freq_audio)"
   ]
  },
  {
   "cell_type": "code",
   "execution_count": null,
   "metadata": {
    "jupyter": {
     "outputs_hidden": true
    }
   },
   "outputs": [],
   "source": []
  }
 ],
 "metadata": {
  "kernelspec": {
   "display_name": "Python 3",
   "language": "python",
   "name": "python3"
  },
  "language_info": {
   "codemirror_mode": {
    "name": "ipython",
    "version": 3
   },
   "file_extension": ".py",
   "mimetype": "text/x-python",
   "name": "python",
   "nbconvert_exporter": "python",
   "pygments_lexer": "ipython3",
   "version": "3.8.8"
  },
  "varInspector": {
   "cols": {
    "lenName": 16,
    "lenType": 16,
    "lenVar": 40
   },
   "kernels_config": {
    "python": {
     "delete_cmd_postfix": "",
     "delete_cmd_prefix": "del ",
     "library": "var_list.py",
     "varRefreshCmd": "print(var_dic_list())"
    },
    "r": {
     "delete_cmd_postfix": ") ",
     "delete_cmd_prefix": "rm(",
     "library": "var_list.r",
     "varRefreshCmd": "cat(var_dic_list()) "
    }
   },
   "types_to_exclude": [
    "module",
    "function",
    "builtin_function_or_method",
    "instance",
    "_Feature"
   ],
   "window_display": false
  }
 },
 "nbformat": 4,
 "nbformat_minor": 4
}
