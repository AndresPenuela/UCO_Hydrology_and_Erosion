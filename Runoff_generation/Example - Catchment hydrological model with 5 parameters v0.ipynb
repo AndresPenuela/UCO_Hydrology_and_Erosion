{
 "cells": [
  {
   "cell_type": "markdown",
   "metadata": {},
   "source": [
    "# Catchment hydrological model with 5 parameters\n",
    "In this Notebook we are going to use a hydrological model, run it and calibrate it to try to understand how it works.\n",
    "\n",
    "Imagine that we want to predict the hydrograph of a river that collects water from a basin when it rains. For this purpose we use a hydrological model, which is nothing more than a set of equations that describe in a simplified way the hydrological processes that occur in the basin. These equations include different parameters that describe some of the properties of the basin, for example the characteristics of the soil.\n",
    "![diagrama cuenca](images/diagrama_cuenca.gif)\n",
    "\n",
    "In this example, we are going to use a simple model (an adaptation of the model [HyMOD](https://doi.org/10.1029/WS006)) which has 5 parameters:\n",
    "\n",
    "- **Soil storage capacity** (mm): capacity of the soil to retain rainwater\n",
    "- **Evaporation ratio**: evaporation ratio or proportion of rain that evaporates\n",
    "- **Percolation ratio**: proportion of effective rainwater (that does not evaporate) that percolates into the ground.\n",
    "- **Travel time - surface flow** (days): surface water concentration time or time it takes for surface water to reach the mouth of the basin.\n",
    "- **Travel time - underground flow** (days): groundwater concentration time or time it takes for groundwater to reach the mouth of the basin.\n",
    "\n",
    "In the image below we can see how the model represents the hydrological processes in order to finally obtain the prediction of the river's hydrograph for the coming months. As you can see, the soil is presented as a deposit with a certain capacity that, if exceeded, overflows, generating surface flow and that also displaces water through its lower part, generating groundwater.\n",
    "\n",
    "![diagrama modelo hidrologico](images/Diagrama_modelo.gif)\n",
    "\n",
    "The first thing, as always, is to import the function libraries that we are going to need."
   ]
  },
  {
   "cell_type": "code",
   "execution_count": 1,
   "metadata": {},
   "outputs": [],
   "source": [
    "import numpy as np\n",
    "import pandas as pd\n",
    "import matplotlib.pyplot as plt\n",
    "from ipywidgets import interact\n",
    "from util.interactive_plots import interactive_plot_1"
   ]
  },
  {
   "cell_type": "markdown",
   "metadata": {},
   "source": [
    "## Load data\n",
    "We have **observed daily rainfall (mm/day), daily evapotranspiration (etp; mm/day) and outflow or runoff (m3/day) data from 2010 to 2019** in a Excel file that we are going to load and save as a variable called `obs_data`"
   ]
  },
  {
   "cell_type": "code",
   "execution_count": 2,
   "metadata": {},
   "outputs": [
    {
     "data": {
      "text/html": [
       "<div>\n",
       "<style scoped>\n",
       "    .dataframe tbody tr th:only-of-type {\n",
       "        vertical-align: middle;\n",
       "    }\n",
       "\n",
       "    .dataframe tbody tr th {\n",
       "        vertical-align: top;\n",
       "    }\n",
       "\n",
       "    .dataframe thead th {\n",
       "        text-align: right;\n",
       "    }\n",
       "</style>\n",
       "<table border=\"1\" class=\"dataframe\">\n",
       "  <thead>\n",
       "    <tr style=\"text-align: right;\">\n",
       "      <th></th>\n",
       "      <th>rain</th>\n",
       "      <th>etp</th>\n",
       "      <th>outflow</th>\n",
       "    </tr>\n",
       "    <tr>\n",
       "      <th>date</th>\n",
       "      <th></th>\n",
       "      <th></th>\n",
       "      <th></th>\n",
       "    </tr>\n",
       "  </thead>\n",
       "  <tbody>\n",
       "    <tr>\n",
       "      <th>2010-01-01</th>\n",
       "      <td>2.032</td>\n",
       "      <td>1.168133</td>\n",
       "      <td>6531.84</td>\n",
       "    </tr>\n",
       "    <tr>\n",
       "      <th>2010-01-02</th>\n",
       "      <td>25.654</td>\n",
       "      <td>0.262242</td>\n",
       "      <td>6531.84</td>\n",
       "    </tr>\n",
       "    <tr>\n",
       "      <th>2010-01-03</th>\n",
       "      <td>13.462</td>\n",
       "      <td>0.991814</td>\n",
       "      <td>74995.20</td>\n",
       "    </tr>\n",
       "    <tr>\n",
       "      <th>2010-01-04</th>\n",
       "      <td>24.638</td>\n",
       "      <td>0.808446</td>\n",
       "      <td>33868.80</td>\n",
       "    </tr>\n",
       "    <tr>\n",
       "      <th>2010-01-05</th>\n",
       "      <td>0.000</td>\n",
       "      <td>0.849716</td>\n",
       "      <td>101606.40</td>\n",
       "    </tr>\n",
       "    <tr>\n",
       "      <th>...</th>\n",
       "      <td>...</td>\n",
       "      <td>...</td>\n",
       "      <td>...</td>\n",
       "    </tr>\n",
       "    <tr>\n",
       "      <th>2019-12-28</th>\n",
       "      <td>0.000</td>\n",
       "      <td>0.200841</td>\n",
       "      <td>9918.72</td>\n",
       "    </tr>\n",
       "    <tr>\n",
       "      <th>2019-12-29</th>\n",
       "      <td>0.000</td>\n",
       "      <td>0.738878</td>\n",
       "      <td>8951.04</td>\n",
       "    </tr>\n",
       "    <tr>\n",
       "      <th>2019-12-30</th>\n",
       "      <td>0.000</td>\n",
       "      <td>0.848909</td>\n",
       "      <td>8467.20</td>\n",
       "    </tr>\n",
       "    <tr>\n",
       "      <th>2019-12-31</th>\n",
       "      <td>0.000</td>\n",
       "      <td>0.434972</td>\n",
       "      <td>8225.28</td>\n",
       "    </tr>\n",
       "    <tr>\n",
       "      <th>2020-01-01</th>\n",
       "      <td>0.000</td>\n",
       "      <td>1.066159</td>\n",
       "      <td>8225.28</td>\n",
       "    </tr>\n",
       "  </tbody>\n",
       "</table>\n",
       "<p>3653 rows × 3 columns</p>\n",
       "</div>"
      ],
      "text/plain": [
       "              rain       etp    outflow\n",
       "date                                   \n",
       "2010-01-01   2.032  1.168133    6531.84\n",
       "2010-01-02  25.654  0.262242    6531.84\n",
       "2010-01-03  13.462  0.991814   74995.20\n",
       "2010-01-04  24.638  0.808446   33868.80\n",
       "2010-01-05   0.000  0.849716  101606.40\n",
       "...            ...       ...        ...\n",
       "2019-12-28   0.000  0.200841    9918.72\n",
       "2019-12-29   0.000  0.738878    8951.04\n",
       "2019-12-30   0.000  0.848909    8467.20\n",
       "2019-12-31   0.000  0.434972    8225.28\n",
       "2020-01-01   0.000  1.066159    8225.28\n",
       "\n",
       "[3653 rows x 3 columns]"
      ]
     },
     "execution_count": 2,
     "metadata": {},
     "output_type": "execute_result"
    }
   ],
   "source": [
    "obs_data = pd.read_excel('data/data example 2.xlsx',index_col = 'date')\n",
    "obs_data # to print the data on screen"
   ]
  },
  {
   "cell_type": "markdown",
   "metadata": {},
   "source": [
    "Let's **plot the observed rainfall rate** of one specific year, for example **2010**"
   ]
  },
  {
   "cell_type": "code",
   "execution_count": 3,
   "metadata": {},
   "outputs": [
    {
     "data": {
      "text/plain": [
       "Text(0.5, 1.0, 'Hyetograph (daily rainfall)')"
      ]
     },
     "execution_count": 3,
     "metadata": {},
     "output_type": "execute_result"
    },
    {
     "data": {
      "image/png": "[encoded data removed]",
      "text/plain": [
       "<Figure size 1080x216 with 1 Axes>"
      ]
     },
     "metadata": {
      "needs_background": "light"
     },
     "output_type": "display_data"
    }
   ],
   "source": [
    "year_of_study = 2010\n",
    "obs_data_year = obs_data[obs_data.index.year == year_of_study] # to select only data from to the year that we want to study\n",
    "plt.figure(figsize=(15,3)) # to define the plot size\n",
    "plt.bar(obs_data_year.index, obs_data_year['rain'], color = 'blue')\n",
    "plt.ylabel('mm/day')\n",
    "plt.ylim([0,50])\n",
    "plt.title('Hyetograph (daily rainfall)')"
   ]
  },
  {
   "cell_type": "markdown",
   "metadata": {},
   "source": [
    "And the **observed runoff rate** of **2010**"
   ]
  },
  {
   "cell_type": "code",
   "execution_count": 4,
   "metadata": {},
   "outputs": [
    {
     "data": {
      "text/plain": [
       "Text(0.5, 1.0, 'Observed hydrograph (daily flow)')"
      ]
     },
     "execution_count": 4,
     "metadata": {},
     "output_type": "execute_result"
    },
    {
     "data": {
      "image/png": "[encoded data removed]",
      "text/plain": [
       "<Figure size 1080x216 with 1 Axes>"
      ]
     },
     "metadata": {
      "needs_background": "light"
     },
     "output_type": "display_data"
    }
   ],
   "source": [
    "plt.figure(figsize=(15,3)) # to define the plot size\n",
    "plt.plot(obs_data_year.index, obs_data_year['outflow'], color = 'black', label = 'observed')\n",
    "plt.ylabel('m3/day')\n",
    "plt.ylim([0,200000])\n",
    "plt.title('Observed hydrograph (daily flow)')"
   ]
  },
  {
   "cell_type": "markdown",
   "metadata": {},
   "source": [
    "### Model inputs"
   ]
  },
  {
   "cell_type": "code",
   "execution_count": 5,
   "metadata": {},
   "outputs": [],
   "source": [
    "T = len(obs_data_year)\n",
    "# Inputs\n",
    "dates = obs_data_year.index\n",
    "prec  = obs_data_year['rain']\n",
    "etp   = obs_data_year['etp']\n",
    "A = 500 * 10000 # ha to m2"
   ]
  },
  {
   "cell_type": "markdown",
   "metadata": {},
   "source": [
    "### Define the hydrological model with 5 parameters"
   ]
  },
  {
   "cell_type": "code",
   "execution_count": null,
   "metadata": {},
   "outputs": [],
   "source": [
    "def hydro_model_5p(dates, prec, etp, soil_capacity, evap_ratio, perc_ratio, travel_time_surf, travel_time_sub):\n",
    "    \"\"\"\n",
    "    Hydrological model adapted from the HyMOD model with 5 parameters.\n",
    "\n",
    "    Parameters:\n",
    "    soil_capacity (float): Maximum soil retention capacity (mm).\n",
    "    evap_ratio (float): Evapotranspiration ratio (dimensionless).\n",
    "    perc_ratio (float): Percolation ratio (dimensionless).\n",
    "    travel_time_surf (float): Concentration time of surface flow.\n",
    "    travel_time_sub (float): Concentration time of subsurface flow.\n",
    "\n",
    "    Returns:\n",
    "    tuple: (dates, Q_sim, Q_sub) - Simulated time series data.\n",
    "    \"\"\"\n",
    "    # Initialization of variables\n",
    "    T = len(prec)  # Total number of time steps, based on the length of the precipitation data\n",
    "    effec_rain = np.zeros((T, 1))  # Effective rainfall (rainfall not infiltrated into the soil) [mm/time step]\n",
    "    et = np.zeros((T, 1))          # Evapotranspiration rate (water loss due to evaporation and plant uptake) [mm/time step]\n",
    "    sm = np.zeros((T + 1, 1))      # Soil moisture content at each time step [mm]\n",
    "    sL = np.zeros((T + 1, 1))      # Moisture content in the slow (subsurface) reservoir [mm]\n",
    "    sF = np.zeros((T + 1, 1))      # Moisture content in the fast (surface) reservoir [mm]\n",
    "    q_sub = np.zeros((T, 1))       # Subsurface flow (baseflow) [mm/time step]\n",
    "    q_sur = np.zeros((T, 1))       # Surface flow (runoff) [mm/time step]\n",
    "\n",
    "    # Simulation over all time steps\n",
    "    for t in range(1, T):  # Start from time step 1 (time 0 is the initial condition)\n",
    "        # Calculate effective rainfall as the excess of precipitation over soil capacity\n",
    "        effec_rain[t] = max(sm[t-1] + prec[t] - soil_capacity, 0)\n",
    "\n",
    "        # Temporary soil moisture after adding precipitation but before evapotranspiration or runoff\n",
    "        sm_temp = min(max(sm[t-1] + prec[t], 0), soil_capacity)\n",
    "\n",
    "        # Calculate actual evapotranspiration (et) using a correction factor (W) based on soil moisture\n",
    "        W = min(np.abs(sm_temp / soil_capacity) * evap_ratio, 1) # Correction factor is proportional to soil saturation\n",
    "        et[t] = W * etp[t]  # Convert potential evapotranspiration (etp) to actual evapotranspiration (et)\n",
    "\n",
    "        # Update the slow reservoir (subsurface flow)\n",
    "        sL[t] = sL[t-1] + perc_ratio * effec_rain[t] - q_sub[t-1] # Inflow from percolation minus previous outflow\n",
    "        q_sub[t] = 1 / travel_time_sub * sL[t]  # Subsurface flow out of the reservoir\n",
    "\n",
    "        # Update the fast reservoir (surface flow)\n",
    "        sF[t] = sF[t-1] + (1 - perc_ratio) * effec_rain[t] - q_sur[t-1] # Inflow from non-percolated rain minus previous outflow\n",
    "        q_sur[t] = 1 / travel_time_surf * sF[t]  # Surface flow out of the reservoir\n",
    "\n",
    "        # Update soil moisture for the current time step\n",
    "        sm[t] = min(max(sm[t-1] + prec[t] - et[t] - q_sub[t] - q_sur[t], 0), soil_capacity)\n",
    "\n",
    "    # Convert results to volumetric flow (m³/day) for comparison with observations\n",
    "    Q_sub = q_sub * 0.001 * A  # Convert subsurface flow from mm/time step to m³/day\n",
    "    Q_sur = q_sur * 0.001 * A  # Convert surface flow from mm/time step to m³/day\n",
    "    Q_sim = Q_sur + Q_sub      # Total simulated flow (surface + subsurface)\n",
    "\n",
    "    return dates, Q_sim, Q_sub  # Return time series of dates, total flow and subsurface flow"
   ]
  },
  {
   "cell_type": "markdown",
   "metadata": {},
   "source": [
    "### Interactive hydrological model - Guess-the-parameter challenge\n",
    "In order to understand the influence of the model parameters on the result we are going to make our model more interactive using widgets, and more specifically sliders. Now we are going to create a `hydrologic_model` function that will contain our hydrologic model and through the `interact` function of the Ipwidgets library we will be able to interact with the model parameters more easily."
   ]
  },
  {
   "cell_type": "code",
   "execution_count": null,
   "metadata": {},
   "outputs": [],
   "source": [
    "interact(interactive_plot_1, p1 = (0.01, 0.99, 0.05), p2 = (0.01, 0.99, 0.05), p3 = (0.01, 0.99, 0.05), \n",
    "          p4 = (0.01, 0.99, 0.05), p5 = (0.01, 0.99, 0.05))"
   ]
  },
  {
   "cell_type": "markdown",
   "metadata": {},
   "source": [
    "### Calibration of the hydrological model\n",
    "A hydrological model usually has a large number of parameters. The user is the one who decides the value of these parameters for a particular application based on the information and data we have about the parameters. Normally we will not have direct measurements of the values of these parameters, but it is likely that we will have historical climatic data and river flow (historical hydrograph of the river). With these data we can infer the values of the parameters by finding the values that make the model result better fit the historical hydrograph of the river, this is called **calibration** of the model.\n",
    "\n",
    "The easiest way to do this is to change the parameter values one at a time and see how this changes the model output and how well it fits the historical hydrograph."
   ]
  },
  {
   "cell_type": "markdown",
   "metadata": {},
   "source": [
    "## Goodness-of-fit\n",
    "To measure if the simulated values with a model are close to the observed data values we use googness-of-fit indicators.\n",
    "\n",
    "### Nash-Sutcliffe efficiency (NSE)\n",
    "The NSE indicates how well the plot of observed versus simulated data fits the 1:1 line. Nash-Sutcliffe efficiencies range from -Inf to 1. Essentially, the closer to 1, the more accurate the model is. -) NSE = 1, corresponds to a perfect match of modelled to the observed data.\n",
    "\n",
    "Let's create two functions to compute RMSE and NSE\n",
    "\n",
    "$NSE = 1 - \\frac{\\sum_{i=1}^{n}(sim_{i} - obs_{i})^{2}}{\\sum_{i=1}^{n}(obs_{i} - \\overline{obs})^{2}}$"
   ]
  },
  {
   "cell_type": "code",
   "execution_count": 6,
   "metadata": {},
   "outputs": [],
   "source": [
    "def RMSE_function(obs,sim):\n",
    "    \n",
    "    RMSE = np.sqrt(((sim - obs) ** 2).mean())\n",
    "    return RMSE\n",
    "\n",
    "def NSE_function(obs,sim):\n",
    "    NSE = (1 - (np.sum((sim - obs) ** 2) / np.sum((obs - np.mean(obs))**2)))\n",
    "    \n",
    "    return NSE"
   ]
  },
  {
   "cell_type": "markdown",
   "metadata": {},
   "source": [
    "Try now, changing the values of the 5 parameters, to calibrate the model, that is to say, to adjust the hydrograph that simulates the model to the historical hydrograph."
   ]
  },
  {
   "cell_type": "code",
   "execution_count": 8,
   "metadata": {},
   "outputs": [
    {
     "data": {
      "application/vnd.jupyter.widget-view+json": {
       "model_id": "88b4a04ca80744c2a3b60e79a8f77e0f",
       "version_major": 2,
       "version_minor": 0
      },
      "text/plain": [
       "interactive(children=(IntSlider(value=10, description='soil_capacity', max=30, min=5, step=5), FloatSlider(val…"
      ]
     },
     "metadata": {},
     "output_type": "display_data"
    }
   ],
   "source": [
    "@interact(soil_capacity = (5, 30, 5), evap_ratio = (0.01, 0.99, 0.05), perc_ratio = (0.01, 0.99, 0.05), \n",
    "          travel_time_surf = (0.8,2.0,0.1), travel_time_sub = (2,30,1), year_of_study = range(2010,2020))\n",
    "\n",
    "def modelo_hidrologico_v1(soil_capacity=10, evap_ratio=0.5, perc_ratio=0.5, \n",
    "                          travel_t_surf=1, travel_t_sub=5, year_of_study = 2018):\n",
    "\n",
    "    obs_data_year = obs_data[obs_data.index.year == year_of_study] # to select only data from to the year that we want to study\n",
    "    # Inputs: let's save each column of the dataframe as a variable\n",
    "    dates = obs_data_year.index\n",
    "    prec  = obs_data_year['rain']\n",
    "    etp   = obs_data_year['etp']\n",
    "    Q_obs = obs_data_year['outflow']\n",
    "    \n",
    "    T = len(obs_data_year)\n",
    "    \n",
    "    effec_rain   = np.zeros((T,1))   # Effective rainfall (amount of precipitation that becomes surface runoff) [mm/t]\n",
    "    et    = np.zeros((T,1))   # Evapotranspiration rate [mm/t]\n",
    "    sm    = np.zeros((T+1,1)) # Moisture content in the soil [mm] (we assume that the soil is dry initially)\n",
    "    sL    = np.zeros((T+1,1)) # Slow reservoir moisture [mm]\n",
    "    sF    = np.zeros((T+1,1)) # Fast reservoir moisture [mm]\n",
    "    q_sub = np.zeros((T,1))   # Underground flow [mm/t]\n",
    "    q_sur = np.zeros((T,1))   # Overland flow [mm/t]    \n",
    "\n",
    "    A = 500 * 10000  # ha to m2    \n",
    "\n",
    "    sim_data_year = pd.DataFrame(0, index=obs_data_year.index, columns = ['rain','outflow'])\n",
    "    sim_data_year['rain'] = obs_data_year['rain']\n",
    "    \n",
    "    \"\"\"\n",
    "    This hydrological model is an adaptation of the HyMOD model. It has 5 parameters:\n",
    "\n",
    "    soil_capacity: Maximum soil retention capacity (mm) [10-90]\n",
    "    evap_ratio: Evapotranspiration ratio () [0-1]\n",
    "    perc_ratio: Percolation ratio () [0-1]\n",
    "    travel_time_surf: Concentration time of surface flow [0.8 - 2]\n",
    "    travel_time_sub: Concentration time of subsurface flow [2 - 10]\n",
    "\n",
    "    \"\"\"\n",
    "    \n",
    "    #######################################################################\n",
    "    # Initialization of variables\n",
    "    #######################################################################\n",
    "    effect_rain = np.zeros((T,1)) # Non-infiltrated rain [mm/t]\n",
    "    et          = np.zeros((T,1)) # Evapotranspiration rate [mm/t]\n",
    "    sm          = np.zeros((T+1,1)) # Soil moisture content [mm] (we assume that the soil is dry initially)\n",
    "    sL          = np.zeros((T+1,1)) # Slow reservoir moisture content [mm]\n",
    "    sF          = np.zeros((T+1,1)) # Fast reservoir moisture content [mm]\n",
    "    q_sub       = np.zeros((T,1)) # Underground flow [mm/t]\n",
    "    q_sur       = np.zeros((T,1)) # Overland flow [mm/t]\n",
    "    \n",
    "    #######################################################################\n",
    "    # Simulation\n",
    "    #######################################################################\n",
    "    for t in range(1,T):\n",
    "\n",
    "        ##### Effective rainfall (or rainfall excess) #####\n",
    "        effec_rain[t] = max(sm[t-1] + prec[t] - soil_capacity, 0)\n",
    "\n",
    "        ##### Temporary soil moisture #####\n",
    "        sm_temp = min(max(sm[t-1] + prec[t], 0), soil_capacity)\n",
    "\n",
    "        ##### Evapotranspiration #####\n",
    "        W = min(np.abs(sm_temp/soil_capacity)*evap_ratio, 1) # Factor de correccion de la evapotranspiracion\n",
    "        et[t] = W * etp[t] # Calculo de la evapotranspiracion\n",
    "\n",
    "        ##### Subsurface flow  or baseflow######\n",
    "        sL[t] = sL[t-1] + perc_ratio*effec_rain[t] - q_sub[t-1]\n",
    "        q_sub[t] = 1/travel_t_sub * sL[t]\n",
    "\n",
    "        ##### Surface flow or runoff #####\n",
    "        sF[t] = sF[t-1] +  (1-perc_ratio)*effec_rain[t] - q_sur[t-1]\n",
    "        q_sur[t] = 1/travel_t_surf * sF[t]\n",
    "\n",
    "        ##### Soil moisture at time t #####       \n",
    "        sm[t] = min(max(sm[t-1] + prec[t] - et[t], 0), soil_capacity)\n",
    "\n",
    "    Q_sub = q_sub * 0.001 * A\n",
    "    Q_sur = q_sur * 0.001 * A\n",
    "    \n",
    "    ##### total simulated flow #####\n",
    "    Q_sim = Q_sur + Q_sub\n",
    "    \n",
    "    sim_data_year['outflow'] = Q_sim\n",
    "    \n",
    "    RMSE = RMSE_function(Q_obs,sim_data_year['outflow'])\n",
    "    NSE  = NSE_function(Q_obs,sim_data_year['outflow'])\n",
    "\n",
    "    #######################################################################\n",
    "    # Results visualization\n",
    "    #######################################################################\n",
    "    \n",
    "    # Plot the figure\n",
    "    plt.figure(figsize=(15,5))\n",
    "    plt.plot(dates,Q_obs, label = 'observed', color = 'black')\n",
    "    plt.plot(dates,Q_sim, label = 'simulated',color = 'blue', alpha = 0.5)\n",
    "    #plt.plot(dates,Q_sub, linestyle = ':',  color = 'green', label = 'baseflow')\n",
    "    plt.ylim(0,200000)\n",
    "    plt.title('Root mean squared error: '+str(round(RMSE))+ ' - Nash–Sutcliffe efficiency: '+str(round(NSE,3)),fontsize = 15)\n",
    "    plt.legend()\n",
    "    plt.ylabel('m3/day')\n",
    "    plt.show()"
   ]
  },
  {
   "cell_type": "markdown",
   "metadata": {},
   "source": [
    "Understanding the process of calibration of a model helps you understand the model itself. What each parameter means, which parameters influence the result the most and check that the model behaves in a logical way. And with interactive elements such as widgets we facilitate this task and therefore the understanding of the model (for example hydrological)"
   ]
  },
  {
   "cell_type": "code",
   "execution_count": null,
   "metadata": {},
   "outputs": [],
   "source": []
  }
 ],
 "metadata": {
  "kernelspec": {
   "display_name": "Python 3 (ipykernel)",
   "language": "python",
   "name": "python3"
  },
  "language_info": {
   "codemirror_mode": {
    "name": "ipython",
    "version": 3
   },
   "file_extension": ".py",
   "mimetype": "text/x-python",
   "name": "python",
   "nbconvert_exporter": "python",
   "pygments_lexer": "ipython3",
   "version": "3.8.13"
  },
  "varInspector": {
   "cols": {
    "lenName": 16,
    "lenType": 16,
    "lenVar": 40
   },
   "kernels_config": {
    "python": {
     "delete_cmd_postfix": "",
     "delete_cmd_prefix": "del ",
     "library": "var_list.py",
     "varRefreshCmd": "print(var_dic_list())"
    },
    "r": {
     "delete_cmd_postfix": ") ",
     "delete_cmd_prefix": "rm(",
     "library": "var_list.r",
     "varRefreshCmd": "cat(var_dic_list()) "
    }
   },
   "types_to_exclude": [
    "module",
    "function",
    "builtin_function_or_method",
    "instance",
    "_Feature"
   ],
   "window_display": false
  }
 },
 "nbformat": 4,
 "nbformat_minor": 4
}
