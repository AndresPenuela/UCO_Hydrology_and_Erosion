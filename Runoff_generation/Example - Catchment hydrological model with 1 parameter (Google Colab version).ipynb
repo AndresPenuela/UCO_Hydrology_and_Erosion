{
 "cells": [
  {
   "cell_type": "markdown",
   "id": "32fd0f8a",
   "metadata": {},
   "source": [
    "# Catchment hydrological model with 1-parameter\n",
    "\n",
    "Let's use a very simple hydrological model that estimates the daily outflow of from a catchment as a function of the daily rainfall falling on the catchment area. The catchment of study is covered by both urban and agricultural land and has a surface area **A = 500 ha**\n",
    "\n",
    "![lumped model](util/Lumped_model.png).\n",
    "\n",
    "The model consists of a single equation to estimate the daily outflow $Q$ (m3/day):\n",
    "\n",
    "$Q = R * 0.001 * A * C$\n",
    "\n",
    "where $R$ is the daily rainfall (mm/day), $A$ is the catchment area (m2) and $C$ is the unique model parameter and which is unitless (-)\n",
    "\n",
    "The first thing, as always, is to import the Python libraries that we are going to need."
   ]
  },
  {
   "cell_type": "code",
   "execution_count": 1,
   "id": "9b7a948f",
   "metadata": {},
   "outputs": [],
   "source": [
    "import numpy as np\n",
    "import pandas as pd\n",
    "import matplotlib.pyplot as plt\n",
    "from ipywidgets import interact # to create interactive elements and figures\n",
    "\n",
    "!git clone https://github.com/AndresPenuela/UCO_Hydrology_and_Erosion.git # this is to clone the repository on Google Colab\n",
    "# In this way we can load files contained in the repository such as data file"
   ]
  },
  {
   "cell_type": "markdown",
   "id": "4ba27ac2",
   "metadata": {},
   "source": [
    "## Load data\n",
    "We have **observed daily rainfall (mm/day), daily evapotranspiration (etp; mm/day) and outflow or runoff (m3/day) data from 2010 to 2019** in a Excel file that we are going to load and save as a variable called `obs_data`"
   ]
  },
  {
   "cell_type": "code",
   "execution_count": 2,
   "id": "28d2f946",
   "metadata": {
    "scrolled": false
   },
   "outputs": [
    {
     "data": {
      "text/html": [
       "<div>\n",
       "<style scoped>\n",
       "    .dataframe tbody tr th:only-of-type {\n",
       "        vertical-align: middle;\n",
       "    }\n",
       "\n",
       "    .dataframe tbody tr th {\n",
       "        vertical-align: top;\n",
       "    }\n",
       "\n",
       "    .dataframe thead th {\n",
       "        text-align: right;\n",
       "    }\n",
       "</style>\n",
       "<table border=\"1\" class=\"dataframe\">\n",
       "  <thead>\n",
       "    <tr style=\"text-align: right;\">\n",
       "      <th></th>\n",
       "      <th>rain</th>\n",
       "      <th>etp</th>\n",
       "      <th>outflow</th>\n",
       "    </tr>\n",
       "    <tr>\n",
       "      <th>date</th>\n",
       "      <th></th>\n",
       "      <th></th>\n",
       "      <th></th>\n",
       "    </tr>\n",
       "  </thead>\n",
       "  <tbody>\n",
       "    <tr>\n",
       "      <th>2010-01-01</th>\n",
       "      <td>1.270</td>\n",
       "      <td>1.168133</td>\n",
       "      <td>6531.84</td>\n",
       "    </tr>\n",
       "    <tr>\n",
       "      <th>2010-01-02</th>\n",
       "      <td>2.032</td>\n",
       "      <td>0.262242</td>\n",
       "      <td>6531.84</td>\n",
       "    </tr>\n",
       "    <tr>\n",
       "      <th>2010-01-03</th>\n",
       "      <td>25.654</td>\n",
       "      <td>0.991814</td>\n",
       "      <td>74995.20</td>\n",
       "    </tr>\n",
       "    <tr>\n",
       "      <th>2010-01-04</th>\n",
       "      <td>13.462</td>\n",
       "      <td>0.808446</td>\n",
       "      <td>33868.80</td>\n",
       "    </tr>\n",
       "    <tr>\n",
       "      <th>2010-01-05</th>\n",
       "      <td>24.638</td>\n",
       "      <td>0.849716</td>\n",
       "      <td>101606.40</td>\n",
       "    </tr>\n",
       "    <tr>\n",
       "      <th>...</th>\n",
       "      <td>...</td>\n",
       "      <td>...</td>\n",
       "      <td>...</td>\n",
       "    </tr>\n",
       "    <tr>\n",
       "      <th>2019-12-28</th>\n",
       "      <td>0.000</td>\n",
       "      <td>0.200841</td>\n",
       "      <td>9918.72</td>\n",
       "    </tr>\n",
       "    <tr>\n",
       "      <th>2019-12-29</th>\n",
       "      <td>0.000</td>\n",
       "      <td>0.738878</td>\n",
       "      <td>8951.04</td>\n",
       "    </tr>\n",
       "    <tr>\n",
       "      <th>2019-12-30</th>\n",
       "      <td>0.000</td>\n",
       "      <td>0.848909</td>\n",
       "      <td>8467.20</td>\n",
       "    </tr>\n",
       "    <tr>\n",
       "      <th>2019-12-31</th>\n",
       "      <td>0.000</td>\n",
       "      <td>0.434972</td>\n",
       "      <td>8225.28</td>\n",
       "    </tr>\n",
       "    <tr>\n",
       "      <th>2020-01-01</th>\n",
       "      <td>0.000</td>\n",
       "      <td>1.066159</td>\n",
       "      <td>8225.28</td>\n",
       "    </tr>\n",
       "  </tbody>\n",
       "</table>\n",
       "<p>3653 rows × 3 columns</p>\n",
       "</div>"
      ],
      "text/plain": [
       "              rain       etp    outflow\n",
       "date                                   \n",
       "2010-01-01   1.270  1.168133    6531.84\n",
       "2010-01-02   2.032  0.262242    6531.84\n",
       "2010-01-03  25.654  0.991814   74995.20\n",
       "2010-01-04  13.462  0.808446   33868.80\n",
       "2010-01-05  24.638  0.849716  101606.40\n",
       "...            ...       ...        ...\n",
       "2019-12-28   0.000  0.200841    9918.72\n",
       "2019-12-29   0.000  0.738878    8951.04\n",
       "2019-12-30   0.000  0.848909    8467.20\n",
       "2019-12-31   0.000  0.434972    8225.28\n",
       "2020-01-01   0.000  1.066159    8225.28\n",
       "\n",
       "[3653 rows x 3 columns]"
      ]
     },
     "execution_count": 2,
     "metadata": {},
     "output_type": "execute_result"
    }
   ],
   "source": [
    "obs_data = pd.read_excel('UCO_Hydrology_and_Erosion/Runoff_generation/datos/data example 2.xlsx',index_col = 'date')\n",
    "obs_data # to print the data on screen"
   ]
  },
  {
   "cell_type": "markdown",
   "id": "31ec6ef9",
   "metadata": {},
   "source": [
    "Let's **plot the observed rainfall rate** of one specific year, for example **2018**"
   ]
  },
  {
   "cell_type": "code",
   "execution_count": 3,
   "id": "adf3d884",
   "metadata": {},
   "outputs": [
    {
     "data": {
      "text/plain": [
       "Text(0.5, 1.0, 'Hyetograph')"
      ]
     },
     "execution_count": 3,
     "metadata": {},
     "output_type": "execute_result"
    },
    {
     "data": {
      "image/png": "[encoded data removed]",
      "text/plain": [
       "<Figure size 1500x300 with 1 Axes>"
      ]
     },
     "metadata": {},
     "output_type": "display_data"
    }
   ],
   "source": [
    "year_of_study = 2018\n",
    "obs_data_year = obs_data[obs_data.index.year == year_of_study] # to select only data from to the year that we want to study\n",
    "plt.figure(figsize=(15,3)) # to define the plot size\n",
    "plt.bar(obs_data_year.index, obs_data_year['rain'], color = 'blue')\n",
    "plt.ylabel('mm/day')\n",
    "plt.ylim([0,50])\n",
    "plt.title('Hyetograph')"
   ]
  },
  {
   "cell_type": "markdown",
   "id": "abc76194",
   "metadata": {},
   "source": [
    "And the **observed runoff rate** of **2018**"
   ]
  },
  {
   "cell_type": "code",
   "execution_count": 4,
   "id": "9fdc6786",
   "metadata": {
    "scrolled": false
   },
   "outputs": [
    {
     "data": {
      "text/plain": [
       "Text(0.5, 1.0, 'Hydrograph')"
      ]
     },
     "execution_count": 4,
     "metadata": {},
     "output_type": "execute_result"
    },
    {
     "data": {
      "image/png": "[encoded data removed]",
      "text/plain": [
       "<Figure size 1500x300 with 1 Axes>"
      ]
     },
     "metadata": {},
     "output_type": "display_data"
    }
   ],
   "source": [
    "plt.figure(figsize=(15,3)) # to define the plot size\n",
    "plt.plot(obs_data_year.index, obs_data_year['outflow'], color = 'black')\n",
    "plt.ylabel('m3/day')\n",
    "plt.ylim([0,200000])\n",
    "plt.title('Hydrograph')"
   ]
  },
  {
   "cell_type": "markdown",
   "id": "4080eecd",
   "metadata": {},
   "source": [
    "Now, let's create our **model**. For this purpose we define a function called *hydro_model*"
   ]
  },
  {
   "cell_type": "code",
   "execution_count": 5,
   "id": "36c9bf32",
   "metadata": {},
   "outputs": [],
   "source": [
    "def hydro_model(R,A,C): # model inputs are always between ()\n",
    "    \n",
    "    Q = R*0.001 * A * C # equation to estimate the catchment outflow Q. Note: 0.001 is to transform the rainfall (mm) into m    \n",
    "    \n",
    "    return Q"
   ]
  },
  {
   "cell_type": "markdown",
   "id": "07be23bb",
   "metadata": {},
   "source": [
    "We run the model we have just created by calling the function and defining the inputs"
   ]
  },
  {
   "cell_type": "code",
   "execution_count": 6,
   "id": "e920bcb5",
   "metadata": {},
   "outputs": [
    {
     "data": {
      "text/html": [
       "<div>\n",
       "<style scoped>\n",
       "    .dataframe tbody tr th:only-of-type {\n",
       "        vertical-align: middle;\n",
       "    }\n",
       "\n",
       "    .dataframe tbody tr th {\n",
       "        vertical-align: top;\n",
       "    }\n",
       "\n",
       "    .dataframe thead th {\n",
       "        text-align: right;\n",
       "    }\n",
       "</style>\n",
       "<table border=\"1\" class=\"dataframe\">\n",
       "  <thead>\n",
       "    <tr style=\"text-align: right;\">\n",
       "      <th></th>\n",
       "      <th>rain</th>\n",
       "      <th>outflow</th>\n",
       "    </tr>\n",
       "    <tr>\n",
       "      <th>date</th>\n",
       "      <th></th>\n",
       "      <th></th>\n",
       "    </tr>\n",
       "  </thead>\n",
       "  <tbody>\n",
       "    <tr>\n",
       "      <th>2018-01-01</th>\n",
       "      <td>0.000</td>\n",
       "      <td>0.0</td>\n",
       "    </tr>\n",
       "    <tr>\n",
       "      <th>2018-01-02</th>\n",
       "      <td>0.000</td>\n",
       "      <td>0.0</td>\n",
       "    </tr>\n",
       "    <tr>\n",
       "      <th>2018-01-03</th>\n",
       "      <td>0.000</td>\n",
       "      <td>0.0</td>\n",
       "    </tr>\n",
       "    <tr>\n",
       "      <th>2018-01-04</th>\n",
       "      <td>0.000</td>\n",
       "      <td>0.0</td>\n",
       "    </tr>\n",
       "    <tr>\n",
       "      <th>2018-01-05</th>\n",
       "      <td>0.000</td>\n",
       "      <td>0.0</td>\n",
       "    </tr>\n",
       "    <tr>\n",
       "      <th>...</th>\n",
       "      <td>...</td>\n",
       "      <td>...</td>\n",
       "    </tr>\n",
       "    <tr>\n",
       "      <th>2018-12-27</th>\n",
       "      <td>0.000</td>\n",
       "      <td>0.0</td>\n",
       "    </tr>\n",
       "    <tr>\n",
       "      <th>2018-12-28</th>\n",
       "      <td>0.000</td>\n",
       "      <td>0.0</td>\n",
       "    </tr>\n",
       "    <tr>\n",
       "      <th>2018-12-29</th>\n",
       "      <td>0.254</td>\n",
       "      <td>635.0</td>\n",
       "    </tr>\n",
       "    <tr>\n",
       "      <th>2018-12-30</th>\n",
       "      <td>0.254</td>\n",
       "      <td>635.0</td>\n",
       "    </tr>\n",
       "    <tr>\n",
       "      <th>2018-12-31</th>\n",
       "      <td>0.000</td>\n",
       "      <td>0.0</td>\n",
       "    </tr>\n",
       "  </tbody>\n",
       "</table>\n",
       "<p>365 rows × 2 columns</p>\n",
       "</div>"
      ],
      "text/plain": [
       "             rain  outflow\n",
       "date                      \n",
       "2018-01-01  0.000      0.0\n",
       "2018-01-02  0.000      0.0\n",
       "2018-01-03  0.000      0.0\n",
       "2018-01-04  0.000      0.0\n",
       "2018-01-05  0.000      0.0\n",
       "...           ...      ...\n",
       "2018-12-27  0.000      0.0\n",
       "2018-12-28  0.000      0.0\n",
       "2018-12-29  0.254    635.0\n",
       "2018-12-30  0.254    635.0\n",
       "2018-12-31  0.000      0.0\n",
       "\n",
       "[365 rows x 2 columns]"
      ]
     },
     "execution_count": 6,
     "metadata": {},
     "output_type": "execute_result"
    }
   ],
   "source": [
    "# Inputs\n",
    "A = 500 * 10000 # ha to m2\n",
    "C = 0.5\n",
    "# Create an empty dataframe where we will save the model results\n",
    "sim_data_year = pd.DataFrame(0, index=obs_data_year.index, columns = ['rain','outflow'])\n",
    "sim_data_year['rain'] = obs_data_year['rain']\n",
    "# Run the model\n",
    "sim_data_year['outflow'] = hydro_model(sim_data_year['rain'], A, C)\n",
    "# Show results\n",
    "sim_data_year"
   ]
  },
  {
   "cell_type": "markdown",
   "id": "6000ce47",
   "metadata": {},
   "source": [
    "Now we can compare the observed data with the model results by plotting both time series"
   ]
  },
  {
   "cell_type": "markdown",
   "id": "35485d6a",
   "metadata": {},
   "source": [
    "## Goodness-of-fit\n",
    "To measure if the simulated values with a model are close to the observed data values we use googness-of-fit indicators. We are going to see three: the root mean squared error, the Nash-Sutcliffe efficiency and the coefficient of determination \n",
    "\n",
    "### Root mean squared error (RMSE)\n",
    "The RMSE is the square root of the variance of the residuals. It indicates the absolute fit of the model to the data–how close the observed data points are to the model’s predicted values. Whereas R-squared is a relative measure of fit, RMSE is an absolute measure of fit. As the square root of a variance, RMSE can be interpreted as the standard deviation of the unexplained variance. It has the useful property of being in the same units as the response variable. Lower values of RMSE indicate better fit. RMSE is a good measure of how accurately the model predicts the response. \n",
    "\n",
    "$RMSE = \\sqrt{(\\frac{1}{n})\\sum_{i=1}^{n}(sim_{i} - obs_{i})^{2}}$\n",
    "\n",
    "### Nash-Sutcliffe efficiency (NSE)\n",
    "The NSE indicates how well the plot of observed versus simulated data fits the 1:1 line. Nash-Sutcliffe efficiencies range from -Inf to 1. Essentially, the closer to 1, the more accurate the model is. -) NSE = 1, corresponds to a perfect match of modelled to the observed data.\n",
    "\n",
    "Let's create two functions to compute RMSE and NSE\n",
    "\n",
    "$NSE = 1 - \\frac{\\sum_{i=1}^{n}(sim_{i} - obs_{i})^{2}}{\\sum_{i=1}^{n}(obs_{i} - \\overline{obs})^{2}}$"
   ]
  },
  {
   "cell_type": "code",
   "execution_count": 7,
   "id": "269f34b9",
   "metadata": {},
   "outputs": [],
   "source": [
    "def RMSE_function(obs,sim):\n",
    "    \n",
    "    RMSE = np.sqrt(((sim - obs) ** 2).mean())\n",
    "    return RMSE\n",
    "\n",
    "def NSE_function(obs,sim):\n",
    "    NSE = (1 - (sum((sim - obs) ** 2) / sum((obs - np.mean(obs))**2)))\n",
    "    \n",
    "    return NSE\n",
    "\n",
    "RMSE = RMSE_function(obs_data_year['outflow'],sim_data_year['outflow'])\n",
    "NSE  = NSE_function(obs_data_year['outflow'],sim_data_year['outflow'])"
   ]
  },
  {
   "cell_type": "markdown",
   "id": "0c1b7c2e",
   "metadata": {},
   "source": [
    "### Calibration of the hydrological model\n",
    "A hydrological model usually has a large number of parameters. The user is the one who decides the value of these parameters for a particular application based on the information and data we have about the parameters. Normally we will not have direct measurements of the values of these parameters, but it is likely that we will have historical climatic data and river flow (historical hydrograph of the river). With these data we can infer the values of the parameters by finding the values that make the model result better fit the historical hydrograph of the river, this is called **calibration** of the model.\n",
    "\n",
    "The easiest way to do this is to change the parameter values one at a time and see how this changes the model output and how well it fits the historical hydrograph."
   ]
  },
  {
   "cell_type": "code",
   "execution_count": 8,
   "id": "f6cc57c0",
   "metadata": {},
   "outputs": [
    {
     "data": {
      "application/vnd.jupyter.widget-view+json": {
       "model_id": "b4a3e70e018744a695605da362c8ce3d",
       "version_major": 2,
       "version_minor": 0
      },
      "text/plain": [
       "interactive(children=(FloatSlider(value=0.0, description='C', max=1.0, step=0.05), Dropdown(description='year_…"
      ]
     },
     "metadata": {},
     "output_type": "display_data"
    }
   ],
   "source": [
    "@interact(C = (0,1,0.05), year_of_study = range(2010,2020))\n",
    "def interactive_figure_1(C = 0, year_of_study = 2010):\n",
    "\n",
    "    obs_data_year = obs_data[obs_data.index.year == year_of_study] # to select only data from to the year that we want to study\n",
    "    \n",
    "    # Create an empty dataframe where we will save the model results\n",
    "    sim_data_year = pd.DataFrame(0, index=obs_data_year.index, columns = ['rain','outflow'])\n",
    "    sim_data_year['rain'] = obs_data_year['rain']\n",
    "    # Run the model\n",
    "    sim_data_year['outflow'] = hydro_model(sim_data_year['rain'], A, C)\n",
    "\n",
    "    RMSE = RMSE_function(obs_data_year['outflow'],sim_data_year['outflow'])\n",
    "    NSE  = NSE_function(obs_data_year['outflow'],sim_data_year['outflow'])\n",
    "    \n",
    "    fig, ax = plt.subplots(2,1,figsize=(15,3),sharex = True)\n",
    "    ax[0].bar(obs_data_year.index,obs_data_year['rain'],color = 'blue',label = 'rain')\n",
    "    ax[0].set(ylabel='mm/day')\n",
    "    ax[0].legend()\n",
    "    ax[1].plot(obs_data_year.index,obs_data_year['outflow'],color = 'black',label = 'obs')\n",
    "    ax[1].plot(sim_data_year.index,sim_data_year['outflow'],color = 'darkblue', label = 'sim', alpha = 0.6)\n",
    "    ax[1].set(ylabel='m3/day', ylim = [0,150000])\n",
    "    ax[1].set_title('Root mean squared error: '+str(round(RMSE))+ ' - Nash–Sutcliffe efficiency: '+str(round(NSE,2)))\n",
    "    ax[1].legend()"
   ]
  },
  {
   "cell_type": "markdown",
   "id": "0ee8f465",
   "metadata": {},
   "source": [
    "### Questions\n",
    "- Is this a good hydrological model? why?\n",
    "- Does it represent the main hydrological processes that take place in the catchment?\n",
    "- What does the parameter C represents?\n",
    "- Would you define this model as a black-box model or a conceptual model?\n",
    "- What is the best value of C for all the years of study?\n",
    "- Which goodness-of-fit coefficient is better, RMSE or NSE?"
   ]
  }
 ],
 "metadata": {
  "kernelspec": {
   "display_name": "Python 3 (ipykernel)",
   "language": "python",
   "name": "python3"
  },
  "language_info": {
   "codemirror_mode": {
    "name": "ipython",
    "version": 3
   },
   "file_extension": ".py",
   "mimetype": "text/x-python",
   "name": "python",
   "nbconvert_exporter": "python",
   "pygments_lexer": "ipython3",
   "version": "3.10.9"
  },
  "varInspector": {
   "cols": {
    "lenName": 16,
    "lenType": 16,
    "lenVar": 40
   },
   "kernels_config": {
    "python": {
     "delete_cmd_postfix": "",
     "delete_cmd_prefix": "del ",
     "library": "var_list.py",
     "varRefreshCmd": "print(var_dic_list())"
    },
    "r": {
     "delete_cmd_postfix": ") ",
     "delete_cmd_prefix": "rm(",
     "library": "var_list.r",
     "varRefreshCmd": "cat(var_dic_list()) "
    }
   },
   "types_to_exclude": [
    "module",
    "function",
    "builtin_function_or_method",
    "instance",
    "_Feature"
   ],
   "window_display": false
  }
 },
 "nbformat": 4,
 "nbformat_minor": 5
}
