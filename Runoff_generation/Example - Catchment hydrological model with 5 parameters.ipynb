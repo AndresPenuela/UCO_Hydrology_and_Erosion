{
 "cells": [
  {
   "cell_type": "markdown",
   "metadata": {},
   "source": [
    "# Catchment hydrological model with 5 parameters\n",
    "In this Notebook we are going to use a hydrological model, run it and calibrate it to try to understand how it works.\n",
    "\n",
    "Imagine that we want to predict the hydrograph of a river that collects water from a basin when it rains. For this purpose we use a hydrological model, which is nothing more than a set of equations that describe in a simplified way the hydrological processes that occur in the basin. These equations include different parameters that describe some of the properties of the basin, for example the characteristics of the soil.\n",
    "![diagrama cuenca](images/diagrama_cuenca.gif)\n",
    "\n",
    "In this example, we are going to use a simple model (an adaptation of the model [HyMOD](https://doi.org/10.1029/WS006)) which has 5 parameters:\n",
    "\n",
    "- **Soil storage capacity** (mm): capacity of the soil to retain rainwater\n",
    "- **Evaporation ratio**: evaporation ratio or proportion of rain that evaporates\n",
    "- **Percolation ratio**: proportion of effective rainwater (that does not evaporate) that percolates into the ground.\n",
    "- **Travel time - surface flow** (days): surface water concentration time or time it takes for surface water to reach the mouth of the basin.\n",
    "- **Travel time - underground flow** (days): groundwater concentration time or time it takes for groundwater to reach the mouth of the basin.\n",
    "\n",
    "In the image below we can see how the model represents the hydrological processes in order to finally obtain the prediction of the river's hydrograph for the coming months. As you can see, the soil is presented as a deposit with a certain capacity that, if exceeded, overflows, generating surface flow and that also displaces water through its lower part, generating groundwater.\n",
    "\n",
    "![diagrama modelo hidrologico](images/Diagrama_modelo.gif)\n",
    "\n",
    "The first thing, as always, is to import the function libraries that we are going to need."
   ]
  },
  {
   "cell_type": "code",
   "execution_count": null,
   "metadata": {},
   "outputs": [],
   "source": [
    "import numpy as np\n",
    "import pandas as pd\n",
    "import matplotlib.pyplot as plt\n",
    "from ipywidgets import interact\n",
    "from util.interactive_plots import interactive_plot_1"
   ]
  },
  {
   "cell_type": "markdown",
   "metadata": {},
   "source": [
    "## Load data\n",
    "We have **observed daily rainfall (mm/day), daily evapotranspiration (etp; mm/day) and outflow or runoff (m3/day) data from 2010 to 2019** in a Excel file that we are going to load and save as a variable called `obs_data`"
   ]
  },
  {
   "cell_type": "code",
   "execution_count": null,
   "metadata": {},
   "outputs": [],
   "source": [
    "obs_data = pd.read_excel('data/data example 2.xlsx',index_col = 'date')\n",
    "obs_data # to print the data on screen"
   ]
  },
  {
   "cell_type": "markdown",
   "metadata": {},
   "source": [
    "Let's **plot the observed rainfall rate** of one specific year, for example **2010**"
   ]
  },
  {
   "cell_type": "code",
   "execution_count": null,
   "metadata": {},
   "outputs": [],
   "source": [
    "year_of_study = 2010\n",
    "obs_data_year = obs_data[obs_data.index.year == year_of_study] # to select only data from to the year that we want to study\n",
    "plt.figure(figsize=(15,3)) # to define the plot size\n",
    "plt.bar(obs_data_year.index, obs_data_year['rain'], color = 'blue')\n",
    "plt.ylabel('mm/day')\n",
    "plt.ylim([0,50])\n",
    "plt.title('Hyetograph (daily rainfall)')"
   ]
  },
  {
   "cell_type": "markdown",
   "metadata": {},
   "source": [
    "And the **observed runoff rate** of **2010**"
   ]
  },
  {
   "cell_type": "code",
   "execution_count": null,
   "metadata": {},
   "outputs": [],
   "source": [
    "plt.figure(figsize=(15,3)) # to define the plot size\n",
    "plt.plot(obs_data_year.index, obs_data_year['outflow'], color = 'black', label = 'observed')\n",
    "plt.ylabel('m3/day')\n",
    "plt.ylim([0,200000])\n",
    "plt.title('Observed hydrograph (daily flow)')"
   ]
  },
  {
   "cell_type": "markdown",
   "metadata": {},
   "source": [
    "### Model inputs"
   ]
  },
  {
   "cell_type": "code",
   "execution_count": null,
   "metadata": {},
   "outputs": [],
   "source": [
    "T = len(obs_data_year)\n",
    "# Inputs\n",
    "dates = obs_data_year.index\n",
    "prec  = obs_data_year['rain']\n",
    "etp   = obs_data_year['etp']\n",
    "A = 500 * 10000 # ha to m2"
   ]
  },
  {
   "cell_type": "markdown",
   "metadata": {},
   "source": [
    "### Define the hydrological model with 5 parameters"
   ]
  },
  {
   "cell_type": "code",
   "execution_count": null,
   "metadata": {},
   "outputs": [],
   "source": [
    "def hydro_model_5p(dates, prec, etp, soil_capacity, evap_ratio, perc_ratio, travel_time_surf, travel_time_sub):\n",
    "    \"\"\"\n",
    "    Hydrological model adapted from the HyMOD model with 5 parameters.\n",
    "\n",
    "    Parameters:\n",
    "    soil_capacity (float): Maximum soil retention capacity (mm).\n",
    "    evap_ratio (float): Evapotranspiration ratio (dimensionless).\n",
    "    perc_ratio (float): Percolation ratio (dimensionless).\n",
    "    travel_time_surf (float): Concentration time of surface flow.\n",
    "    travel_time_sub (float): Concentration time of subsurface flow.\n",
    "\n",
    "    Returns:\n",
    "    tuple: (dates, Q_sim, Q_sub) - Simulated time series data.\n",
    "    \"\"\"\n",
    "    # Initialization of variables\n",
    "    T = len(prec)  # Total number of time steps, based on the length of the precipitation data\n",
    "    effec_rain = np.zeros((T, 1))  # Effective rainfall (rainfall not infiltrated into the soil) [mm/time step]\n",
    "    et = np.zeros((T, 1))          # Evapotranspiration rate (water loss due to evaporation and plant uptake) [mm/time step]\n",
    "    sm = np.zeros((T + 1, 1))      # Soil moisture content at each time step [mm]\n",
    "    sL = np.zeros((T + 1, 1))      # Moisture content in the slow (subsurface) reservoir [mm]\n",
    "    sF = np.zeros((T + 1, 1))      # Moisture content in the fast (surface) reservoir [mm]\n",
    "    q_sub = np.zeros((T, 1))       # Subsurface flow (baseflow) [mm/time step]\n",
    "    q_sur = np.zeros((T, 1))       # Surface flow (runoff) [mm/time step]\n",
    "\n",
    "    # Simulation over all time steps\n",
    "    for t in range(1, T):  # Start from time step 1 (time 0 is the initial condition)\n",
    "        # Calculate effective rainfall as the excess of precipitation over soil capacity\n",
    "        effec_rain[t] = max(sm[t-1] + prec[t] - soil_capacity, 0)\n",
    "\n",
    "        # Temporary soil moisture after adding precipitation but before evapotranspiration or runoff\n",
    "        sm_temp = min(max(sm[t-1] + prec[t], 0), soil_capacity)\n",
    "\n",
    "        # Calculate actual evapotranspiration (et) using a correction factor (W) based on soil moisture\n",
    "        W = min(np.abs(sm_temp / soil_capacity) * evap_ratio, 1) # Correction factor is proportional to soil saturation\n",
    "        et[t] = W * etp[t]  # Convert potential evapotranspiration (etp) to actual evapotranspiration (et)\n",
    "\n",
    "        # Update the slow reservoir (subsurface flow)\n",
    "        sL[t] = sL[t-1] + perc_ratio * effec_rain[t] - q_sub[t-1] # Inflow from percolation minus previous outflow\n",
    "        q_sub[t] = 1 / travel_time_sub * sL[t]  # Subsurface flow out of the reservoir\n",
    "\n",
    "        # Update the fast reservoir (surface flow)\n",
    "        sF[t] = sF[t-1] + (1 - perc_ratio) * effec_rain[t] - q_sur[t-1] # Inflow from non-percolated rain minus previous outflow\n",
    "        q_sur[t] = 1 / travel_time_surf * sF[t]  # Surface flow out of the reservoir\n",
    "\n",
    "        # Update soil moisture for the current time step\n",
    "        sm[t] = min(max(sm[t-1] + prec[t] - et[t] - q_sub[t] - q_sur[t], 0), soil_capacity)\n",
    "\n",
    "    # Convert results to volumetric flow (m³/day) for comparison with observations\n",
    "    Q_sub = q_sub * 0.001 * A  # Convert subsurface flow from mm/time step to m³/day\n",
    "    Q_sur = q_sur * 0.001 * A  # Convert surface flow from mm/time step to m³/day\n",
    "    Q_sim = Q_sur + Q_sub      # Total simulated flow (surface + subsurface)\n",
    "\n",
    "    return dates, Q_sim, Q_sub  # Return time series of dates, total flow and subsurface flow"
   ]
  },
  {
   "cell_type": "markdown",
   "metadata": {},
   "source": [
    "### Exercise - Guess-the-parameter challenge\n",
    "In order to understand the influence of the model parameters on the result we are going to make our model more interactive using widgets, and more specifically sliders. Now you will be able to **play with the values of the parameters**, however the name of each parameter is not specified. After running the code below, try to answer the questions that you will find at the end."
   ]
  },
  {
   "cell_type": "code",
   "execution_count": null,
   "metadata": {},
   "outputs": [],
   "source": [
    "interact(interactive_plot_1, p1 = (0.01, 0.99, 0.05), p2 = (0.01, 0.99, 0.05), p3 = (0.01, 0.99, 0.05), \n",
    "          p4 = (0.01, 0.99, 0.05), p5 = (0.01, 0.99, 0.05))"
   ]
  },
  {
   "cell_type": "markdown",
   "metadata": {},
   "source": [
    "**Questions**: Which parameter (p1,p2,p3, p4, p5) corresponds to:\n",
    "- **Soil storage capacity**\n",
    "- **Evaporation ratio**\n",
    "- **Percolation ratio**\n",
    "- **Travel time - surface flow**\n",
    "- **Travel time - underground flow**\n",
    "\n",
    "**IMPORTANT**: Explain your answers"
   ]
  },
  {
   "cell_type": "code",
   "execution_count": null,
   "metadata": {},
   "outputs": [],
   "source": []
  }
 ],
 "metadata": {
  "kernelspec": {
   "display_name": "Python 3 (ipykernel)",
   "language": "python",
   "name": "python3"
  },
  "language_info": {
   "codemirror_mode": {
    "name": "ipython",
    "version": 3
   },
   "file_extension": ".py",
   "mimetype": "text/x-python",
   "name": "python",
   "nbconvert_exporter": "python",
   "pygments_lexer": "ipython3",
   "version": "3.8.13"
  },
  "varInspector": {
   "cols": {
    "lenName": 16,
    "lenType": 16,
    "lenVar": 40
   },
   "kernels_config": {
    "python": {
     "delete_cmd_postfix": "",
     "delete_cmd_prefix": "del ",
     "library": "var_list.py",
     "varRefreshCmd": "print(var_dic_list())"
    },
    "r": {
     "delete_cmd_postfix": ") ",
     "delete_cmd_prefix": "rm(",
     "library": "var_list.r",
     "varRefreshCmd": "cat(var_dic_list()) "
    }
   },
   "types_to_exclude": [
    "module",
    "function",
    "builtin_function_or_method",
    "instance",
    "_Feature"
   ],
   "window_display": false
  }
 },
 "nbformat": 4,
 "nbformat_minor": 4
}
