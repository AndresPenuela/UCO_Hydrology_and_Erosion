{
 "cells": [
  {
   "cell_type": "markdown",
   "metadata": {},
   "source": [
    "# Catchment hydrological model with 5 parameters\n",
    "In this Notebook we are going to use a hydrological model, run it and calibrate it to try to understand how it works.\n",
    "\n",
    "Imagine that we want to predict the hydrograph of a river that collects water from a basin when it rains. For this purpose we use a hydrological model, which is nothing more than a set of equations that describe in a simplified way the hydrological processes that occur in the basin. These equations include different parameters that describe some of the properties of the basin, for example the characteristics of the soil.\n",
    "![diagrama cuenca](util/diagrama_cuenca.gif)\n",
    "\n",
    "In this example, we are going to use a simple model (an adaptation of the model [HyMOD](https://doi.org/10.1029/WS006)) which has 5 parameters:\n",
    "\n",
    "- **Soil storage capacity** (mm): capacity of the soil to retain rainwater\n",
    "- **Evaporation ratio**: evaporation ratio or proportion of rain that evaporates\n",
    "- **Percolation ratio**: percolation ratio proportion of effective rainwater (that does not evaporate) that percolates into the ground.\n",
    "- **Travel time - surface flow** (days): surface water concentration time or time it takes for surface water to reach the mouth of the basin.\n",
    "- **Travel time - underground flow** (days): groundwater concentration time or time it takes for groundwater to reach the mouth of the basin.\n",
    "\n",
    "In the image below we can see how the model represents the hydrological processes in order to finally obtain the prediction of the river's hydrograph for the coming months. As you can see, the soil is presented as a deposit with a certain capacity that, if exceeded, overflows, generating surface flow and that also displaces water through its lower part, generating groundwater.\n",
    "\n",
    "![diagrama modelo hidrologico](util/Diagrama_modelo.gif)\n",
    "\n",
    "The first thing, as always, is to import the function libraries that we are going to need."
   ]
  },
  {
   "cell_type": "code",
   "execution_count": 1,
   "metadata": {},
   "outputs": [],
   "source": [
    "import numpy as np\n",
    "import pandas as pd\n",
    "\n",
    "import matplotlib.pyplot as plt\n",
    "from ipywidgets import interact"
   ]
  },
  {
   "cell_type": "markdown",
   "metadata": {},
   "source": [
    "## Load data\n",
    "We have observed daily rainfall (mm/day), potential evapotranspiration (mm/day) and outflow (m3/day) data from 2010 to 2019."
   ]
  },
  {
   "cell_type": "code",
   "execution_count": 2,
   "metadata": {},
   "outputs": [
    {
     "data": {
      "text/html": [
       "<div>\n",
       "<style scoped>\n",
       "    .dataframe tbody tr th:only-of-type {\n",
       "        vertical-align: middle;\n",
       "    }\n",
       "\n",
       "    .dataframe tbody tr th {\n",
       "        vertical-align: top;\n",
       "    }\n",
       "\n",
       "    .dataframe thead th {\n",
       "        text-align: right;\n",
       "    }\n",
       "</style>\n",
       "<table border=\"1\" class=\"dataframe\">\n",
       "  <thead>\n",
       "    <tr style=\"text-align: right;\">\n",
       "      <th></th>\n",
       "      <th>rain</th>\n",
       "      <th>etp</th>\n",
       "      <th>outflow</th>\n",
       "    </tr>\n",
       "    <tr>\n",
       "      <th>date</th>\n",
       "      <th></th>\n",
       "      <th></th>\n",
       "      <th></th>\n",
       "    </tr>\n",
       "  </thead>\n",
       "  <tbody>\n",
       "    <tr>\n",
       "      <th>2010-01-01</th>\n",
       "      <td>1.270</td>\n",
       "      <td>1.168133</td>\n",
       "      <td>6531.84</td>\n",
       "    </tr>\n",
       "    <tr>\n",
       "      <th>2010-01-02</th>\n",
       "      <td>2.032</td>\n",
       "      <td>0.262242</td>\n",
       "      <td>6531.84</td>\n",
       "    </tr>\n",
       "    <tr>\n",
       "      <th>2010-01-03</th>\n",
       "      <td>25.654</td>\n",
       "      <td>0.991814</td>\n",
       "      <td>74995.20</td>\n",
       "    </tr>\n",
       "    <tr>\n",
       "      <th>2010-01-04</th>\n",
       "      <td>13.462</td>\n",
       "      <td>0.808446</td>\n",
       "      <td>33868.80</td>\n",
       "    </tr>\n",
       "    <tr>\n",
       "      <th>2010-01-05</th>\n",
       "      <td>24.638</td>\n",
       "      <td>0.849716</td>\n",
       "      <td>101606.40</td>\n",
       "    </tr>\n",
       "    <tr>\n",
       "      <th>...</th>\n",
       "      <td>...</td>\n",
       "      <td>...</td>\n",
       "      <td>...</td>\n",
       "    </tr>\n",
       "    <tr>\n",
       "      <th>2019-12-28</th>\n",
       "      <td>0.000</td>\n",
       "      <td>0.200841</td>\n",
       "      <td>9918.72</td>\n",
       "    </tr>\n",
       "    <tr>\n",
       "      <th>2019-12-29</th>\n",
       "      <td>0.000</td>\n",
       "      <td>0.738878</td>\n",
       "      <td>8951.04</td>\n",
       "    </tr>\n",
       "    <tr>\n",
       "      <th>2019-12-30</th>\n",
       "      <td>0.000</td>\n",
       "      <td>0.848909</td>\n",
       "      <td>8467.20</td>\n",
       "    </tr>\n",
       "    <tr>\n",
       "      <th>2019-12-31</th>\n",
       "      <td>0.000</td>\n",
       "      <td>0.434972</td>\n",
       "      <td>8225.28</td>\n",
       "    </tr>\n",
       "    <tr>\n",
       "      <th>2020-01-01</th>\n",
       "      <td>0.000</td>\n",
       "      <td>1.066159</td>\n",
       "      <td>8225.28</td>\n",
       "    </tr>\n",
       "  </tbody>\n",
       "</table>\n",
       "<p>3653 rows × 3 columns</p>\n",
       "</div>"
      ],
      "text/plain": [
       "              rain       etp    outflow\n",
       "date                                   \n",
       "2010-01-01   1.270  1.168133    6531.84\n",
       "2010-01-02   2.032  0.262242    6531.84\n",
       "2010-01-03  25.654  0.991814   74995.20\n",
       "2010-01-04  13.462  0.808446   33868.80\n",
       "2010-01-05  24.638  0.849716  101606.40\n",
       "...            ...       ...        ...\n",
       "2019-12-28   0.000  0.200841    9918.72\n",
       "2019-12-29   0.000  0.738878    8951.04\n",
       "2019-12-30   0.000  0.848909    8467.20\n",
       "2019-12-31   0.000  0.434972    8225.28\n",
       "2020-01-01   0.000  1.066159    8225.28\n",
       "\n",
       "[3653 rows x 3 columns]"
      ]
     },
     "execution_count": 2,
     "metadata": {},
     "output_type": "execute_result"
    }
   ],
   "source": [
    "obs_data = pd.read_excel('datos/data example 2.xlsx',index_col = 'date')\n",
    "obs_data # to print the data on screen"
   ]
  },
  {
   "cell_type": "code",
   "execution_count": 6,
   "metadata": {},
   "outputs": [],
   "source": [
    "# Inputs\n",
    "dates = obs_data_year.index\n",
    "prec  = obs_data_year['rain']\n",
    "etp   = obs_data_year['etp']\n",
    "\n",
    "\n",
    "\n",
    "for t in range(1,T):\n",
    "\n",
    "    ##### Effective rainfall (or rainfall excess) #####\n",
    "    effec_rain[t] = max(sm[t-1] + prec[t] - sm_max, 0)\n",
    "    \n",
    "    ##### Temporary soil moisture #####\n",
    "    sm_temp = max(min(sm[t-1] + prec[t], sm_max), 0)\n",
    "\n",
    "    ##### Evapotranspiration #####\n",
    "    W = min(np.abs(sm_temp/sm_max)*gamma, 1) # Factor de correccion de la evapotranspiracion\n",
    "    et[t] = W * etp[t] # Calculo de la evapotranspiracion\n",
    "\n",
    "    ##### Soil moisture at time t #####       \n",
    "    sm[t] = max(min(sm[t-1] + prec[t] - et[t], sm_max), 0)\n",
    "\n",
    "    ##### Subsurface flow  or baseflow######\n",
    "    sL[t] = sL[t-1] + (alpha)*effec_rain[t] - q_sub[t-1]\n",
    "    q_sub[t] = 1/t_sub * sL[t]\n",
    "    \n",
    "    ##### Surface flow or runoff #####\n",
    "    sF[t] = sF[t-1] +  (1-alpha)*effec_rain[t] - q_sur[t-1]\n",
    "    q_sur[t] = 1/t_sur * sF[t]\n",
    "    \n",
    "Q_sub = q_sub * 0.001 * A\n",
    "Q_sur = q_sur * 0.001 * A\n",
    "\n",
    "##### Total simulated flow or outflow #####\n",
    "    \n",
    "Q_sim = Q_sur + Q_sub"
   ]
  },
  {
   "cell_type": "markdown",
   "metadata": {},
   "source": [
    "### Visualization of the results\n",
    "Now we can see the result of the simulation, in this case we represent the surface flow, the underground flow and the total hydrograph (sum of the two)"
   ]
  },
  {
   "cell_type": "code",
   "execution_count": 7,
   "metadata": {},
   "outputs": [
    {
     "data": {
      "image/png": "[encoded data removed]",
      "text/plain": [
       "<Figure size 1080x360 with 1 Axes>"
      ]
     },
     "metadata": {
      "needs_background": "light"
     },
     "output_type": "display_data"
    }
   ],
   "source": [
    "plt.figure(figsize=(15,5))\n",
    "plt.plot(dates,Q_sim, label = 'total',color = 'blue', alpha = 0.3)\n",
    "plt.plot(dates,Q_sur, linestyle = '--', color = 'red',   label = 'surface flow')\n",
    "plt.plot(dates,Q_sub, linestyle = ':',  color = 'green', label = 'baseflow')\n",
    "plt.ylim(0,150000) # to define the limits of the y axis\n",
    "plt.legend()\n",
    "plt.ylabel('m3/day')\n",
    "plt.show()"
   ]
  },
  {
   "cell_type": "markdown",
   "metadata": {},
   "source": [
    "If we now want to repeat the simulation but with different values of the parameters to check how the result changes, we would need to go back to the \"Model Parameters\" cell, manually change the values and run the subsequent cells again until the hydrograph graph is generated and repeat this process over and over... It doesn't sound very efficient. Let's do something different.\n",
    "\n",
    "### Interactive hydrological model\n",
    "In order to understand the influence of the model parameters on the result we are going to make our model more interactive using widgets, and more specifically sliders. Now we are going to create a `hydrologic_model` function that will contain our hydrologic model and through the `interact` function of the Ipwidgets library we will be able to interact with the model parameters more easily."
   ]
  },
  {
   "cell_type": "code",
   "execution_count": 8,
   "metadata": {},
   "outputs": [
    {
     "data": {
      "application/vnd.jupyter.widget-view+json": {
       "model_id": "41401894ce2144af80d56f8cb3323a0e",
       "version_major": 2,
       "version_minor": 0
      },
      "text/plain": [
       "interactive(children=(IntSlider(value=10, description='sm_max', max=90, min=10), FloatSlider(value=0.5, descri…"
      ]
     },
     "metadata": {},
     "output_type": "display_data"
    }
   ],
   "source": [
    "@interact(sm_max = (10, 90, 1), gamma = (0.01, 0.99, 0.01), alpha = (0.01, 0.99, 0.01), \n",
    "          t_sur = (0.8,2,0.1), t_sub = (2,10,0.1))\n",
    "\n",
    "def modelo_hidrologico_v0(sm_max=10, gamma=0.5, alpha=0.5, t_sur=1, t_sub=5): # valores iniciales de los parametros\n",
    "    \"\"\"\n",
    "    This hydrological model is an adaptation of the HyMOD model. It has 5 parameters:\n",
    "\n",
    "    sm_max: Maximum soil retention capacity (mm) [10-90]\n",
    "    gamma: Evapotranspiration ratio () [0-1]\n",
    "    alpha: Percolation ratio () [0-1]\n",
    "    t_sur: Concentration time of surface flow [0.8 - 2]\n",
    "    t_sub: Subsurface flow concentration time [2 - 10]\n",
    "    \"\"\"\n",
    "    \n",
    "    #######################################################################\n",
    "    # Initialization of variables\n",
    "    #######################################################################\n",
    "    effect_rain = np.zeros((T,1)) # Non-infiltrated rain [mm/t]\n",
    "    et = np.zeros((T,1)) # Evapotranspiration rate [mm/t]\n",
    "    sm = np.zeros((T+1,1)) # Soil moisture content [mm] (we assume that the soil is dry initially)\n",
    "    sL = np.zeros((T+1,1)) # Slow reservoir moisture content [mm]\n",
    "    sF = np.zeros((T+1,1)) # Fast reservoir moisture content [mm]\n",
    "    q_sub = np.zeros((T,1)) # Underground flow [mm/t]\n",
    "    q_sur = np.zeros((T,1)) # Overland flow [mm/t]\n",
    "\n",
    "    #######################################################################\n",
    "    # Simulation\n",
    "    #######################################################################\n",
    "    for t in range(1,T):\n",
    "\n",
    "        ##### Effective rainfall (or rainfall excess) #####\n",
    "        effec_rain[t] = max(sm[t-1] + prec[t] - sm_max, 0)\n",
    "\n",
    "        ##### Temporary soil moisture #####\n",
    "        sm_temp = max(min(sm[t-1] + prec[t], sm_max), 0)\n",
    "\n",
    "        ##### Evapotranspiration #####\n",
    "        W = min(np.abs(sm_temp/sm_max)*gamma, 1) # Correction factor\n",
    "        et[t] = W * etp[t] # Potential evapotranspiration (etp) to actual evapotranspiration (et)\n",
    "\n",
    "        ##### Soil moisture at time t #####       \n",
    "        sm[t] = max(min(sm[t-1] + prec[t] - et[t], sm_max), 0)\n",
    "\n",
    "        ##### Subsurface flow  or baseflow ######\n",
    "        sL[t] = sL[t-1] + alpha*effec_rain[t] - q_sub[t-1]\n",
    "        q_sub[t] = 1/t_sub * sL[t]\n",
    "\n",
    "        ##### Surface flow or runoff #####\n",
    "        sF[t] = sF[t-1] + (1-alpha)*effec_rain[t] - q_sur[t-1]\n",
    "        q_sur[t] = 1/t_sur * sF[t]\n",
    "\n",
    "    Q_sub = q_sub * 0.001 * A # to convert mm/day into m3/day\n",
    "    Q_sur = q_sur * 0.001 * A # to convert mm/day into m3/day\n",
    "    \n",
    "    ##### Total simulated flow #####\n",
    "    Q_sim = Q_sur + Q_sub\n",
    "\n",
    "    #######################################################################\n",
    "    # Results visualization\n",
    "    #######################################################################\n",
    "    # Plot the figure\n",
    "    plt.figure(figsize=(15,5))\n",
    "    plt.plot(dates,Q_sim, label = 'total = surface + subsurface flow)', color = 'blue', alpha = 0.5)\n",
    "    plt.plot(dates,Q_sur, linestyle = '--', color = 'orange',   label = 'surface flow')\n",
    "    plt.plot(dates,Q_sub, linestyle = ':',  color = 'green', label = 'subsurface flow')\n",
    "    plt.ylim(0,300000) # graph axis limits\n",
    "    plt.legend() # to show the legend\n",
    "    plt.ylabel('m3/day') # label of the y axis\n",
    "    plt.show()"
   ]
  },
  {
   "cell_type": "markdown",
   "metadata": {},
   "source": [
    "### Calibration of the hydrological model\n",
    "A hydrological model usually has a large number of parameters. The user is the one who decides the value of these parameters for a particular application based on the information and data we have about the parameters. Normally we will not have direct measurements of the values of these parameters, but it is likely that we will have historical climatic data and river flow (historical hydrograph of the river). With these data we can infer the values of the parameters by finding the values that make the model result better fit the historical hydrograph of the river, this is called **calibration** of the model.\n",
    "\n",
    "The easiest way to do this is to change the parameter values one at a time and see how this changes the model output and how well it fits the historical hydrograph."
   ]
  },
  {
   "cell_type": "markdown",
   "metadata": {},
   "source": [
    "## Goodness-of-fit\n",
    "To measure if the simulated values with a model are close to the observed data values we use googness-of-fit indicators. We are going to see three: the root mean squared error, the Nash-Sutcliffe efficiency and the coefficient of determination \n",
    "\n",
    "### Root mean squared error (RMSE)\n",
    "The RMSE is the square root of the variance of the residuals. It indicates the absolute fit of the model to the data–how close the observed data points are to the model’s predicted values. Whereas R-squared is a relative measure of fit, RMSE is an absolute measure of fit. As the square root of a variance, RMSE can be interpreted as the standard deviation of the unexplained variance. It has the useful property of being in the same units as the response variable. Lower values of RMSE indicate better fit. RMSE is a good measure of how accurately the model predicts the response. \n",
    "\n",
    "$RMSE = \\sqrt{(\\frac{1}{n})\\sum_{i=1}^{n}(sim_{i} - obs_{i})^{2}}$\n",
    "\n",
    "### Nash-Sutcliffe efficiency (NSE)\n",
    "The NSE indicates how well the plot of observed versus simulated data fits the 1:1 line. Nash-Sutcliffe efficiencies range from -Inf to 1. Essentially, the closer to 1, the more accurate the model is. -) NSE = 1, corresponds to a perfect match of modelled to the observed data.\n",
    "\n",
    "Let's create two functions to compute RMSE and NSE\n",
    "\n",
    "$NSE = 1 - \\frac{\\sum_{i=1}^{n}(sim_{i} - obs_{i})^{2}}{\\sum_{i=1}^{n}(obs_{i} - \\overline{obs})^{2}}$"
   ]
  },
  {
   "cell_type": "code",
   "execution_count": 3,
   "metadata": {},
   "outputs": [],
   "source": [
    "def RMSE_function(obs,sim):\n",
    "    \n",
    "    RMSE = np.sqrt(((sim - obs) ** 2).mean())\n",
    "    return RMSE\n",
    "\n",
    "def NSE_function(obs,sim):\n",
    "    NSE = (1 - (np.sum((sim - obs) ** 2) / np.sum((obs - np.mean(obs))**2)))\n",
    "    \n",
    "    return NSE"
   ]
  },
  {
   "cell_type": "markdown",
   "metadata": {},
   "source": [
    "Try now, changing the values of the 5 parameters, to calibrate the model, that is to say, to adjust the hydrograph that simulates the model to the historical hydrograph."
   ]
  },
  {
   "cell_type": "code",
   "execution_count": 11,
   "metadata": {},
   "outputs": [
    {
     "data": {
      "application/vnd.jupyter.widget-view+json": {
       "model_id": "491fe17b6d6d4f108838e29d38358dbe",
       "version_major": 2,
       "version_minor": 0
      },
      "text/plain": [
       "interactive(children=(IntSlider(value=10, description='sm_max', max=90, min=5), FloatSlider(value=0.5, descrip…"
      ]
     },
     "metadata": {},
     "output_type": "display_data"
    }
   ],
   "source": [
    "@interact(sm_max = (5, 90, 1), gamma = (0.05, 1, 0.05), alpha = (0, 1, 0.05), \n",
    "          t_sur = (0.8,2,0.1), t_sub = (2,30,1), year_of_study = range(2010,2020))\n",
    "\n",
    "def modelo_hidrologico_v1(sm_max=10, gamma=0.5, alpha=0.5, t_sur=1, t_sub=5, year_of_study = 2010):\n",
    "\n",
    "    obs_data_year = obs_data[obs_data.index.year == year_of_study] # to select only data from to the year that we want to study\n",
    "    # Inputs: let's save each column of the dataframe as a variable\n",
    "    dates = obs_data_year.index\n",
    "    prec  = obs_data_year['rain']\n",
    "    etp   = obs_data_year['etp']\n",
    "    Q_obs = obs_data_year['outflow']\n",
    "    \n",
    "    T = len(obs_data_year)\n",
    "    \n",
    "    effec_rain   = np.zeros((T,1))   # Effective rainfall (amount of precipitation that becomes surface runoff) [mm/t]\n",
    "    et    = np.zeros((T,1))   # Evapotranspiration rate [mm/t]\n",
    "    sm    = np.zeros((T+1,1)) # Moisture content in the soil [mm] (we assume that the soil is dry initially)\n",
    "    sL    = np.zeros((T+1,1)) # Slow reservoir moisture [mm]\n",
    "    sF    = np.zeros((T+1,1)) # Fast reservoir moisture [mm]\n",
    "    q_sub = np.zeros((T,1))   # Underground flow [mm/t]\n",
    "    q_sur = np.zeros((T,1))   # Overland flow [mm/t]    \n",
    "\n",
    "\n",
    "    A = 500 * 10000  # ha to m2    \n",
    "\n",
    "    \n",
    "    sim_data_year = pd.DataFrame(0, index=obs_data_year.index, columns = ['rain','outflow'])\n",
    "    sim_data_year['rain'] = obs_data_year['rain']\n",
    "    \n",
    "    \"\"\"\n",
    "    This hydrological model is an adaptation of the HyMOD model. It has 5 parameters:\n",
    "\n",
    "    sm_max: Maximum soil retention capacity (mm) [10-90]\n",
    "    gamma: Evapotranspiration ratio () [0-1]\n",
    "    alpha: Inverse of the percolation ratio () [0-1]\n",
    "    t_sur: Concentration time of surface flow [0.8 - 2]\n",
    "    t_sub: Subsurface flow concentration time [2 - 10]\n",
    "\n",
    "    \"\"\"\n",
    "    \n",
    "    #######################################################################\n",
    "    # Initialization of variables\n",
    "    #######################################################################\n",
    "    effect_rain = np.zeros((T,1)) # Non-infiltrated rain [mm/t]\n",
    "    et          = np.zeros((T,1)) # Evapotranspiration rate [mm/t]\n",
    "    sm          = np.zeros((T+1,1)) # Soil moisture content [mm] (we assume that the soil is dry initially)\n",
    "    sL          = np.zeros((T+1,1)) # Slow reservoir moisture content [mm]\n",
    "    sF          = np.zeros((T+1,1)) # Fast reservoir moisture content [mm]\n",
    "    q_sub       = np.zeros((T,1)) # Underground flow [mm/t]\n",
    "    q_sur       = np.zeros((T,1)) # Overland flow [mm/t]\n",
    "    \n",
    "    #######################################################################\n",
    "    # Simulation\n",
    "    #######################################################################\n",
    "    for t in range(1,T):\n",
    "\n",
    "        ##### Effective rainfall (or rainfall excess) #####\n",
    "        effec_rain[t] = max(sm[t-1] + prec[t] - sm_max, 0)\n",
    "\n",
    "        ##### Temporary soil moisture #####\n",
    "        sm_temp = max(min(sm[t-1] + prec[t], sm_max), 0)\n",
    "\n",
    "        ##### Evapotranspiration #####\n",
    "        W = min(np.abs(sm_temp/sm_max)*gamma, 1) # Factor de correccion de la evapotranspiracion\n",
    "        et[t] = W * etp[t] # Calculo de la evapotranspiracion\n",
    "\n",
    "        ##### Soil moisture at time t #####       \n",
    "        sm[t] = max(min(sm[t-1] + prec[t] - et[t], sm_max), 0)\n",
    "\n",
    "        ##### Subsurface flow  or baseflow######\n",
    "        sL[t] = sL[t-1] + alpha*effec_rain[t] - q_sub[t-1]\n",
    "        q_sub[t] = 1/t_sub * sL[t]\n",
    "\n",
    "        ##### Surface flow or runoff #####\n",
    "        sF[t] = sF[t-1] +  (1-alpha)*effec_rain[t] - q_sur[t-1]\n",
    "        q_sur[t] = 1/t_sur * sF[t]\n",
    "\n",
    "    Q_sub = q_sub * 0.001 * A\n",
    "    Q_sur = q_sur * 0.001 * A\n",
    "    \n",
    "    ##### total simulated flow #####\n",
    "    Q_sim = Q_sur + Q_sub\n",
    "    \n",
    "    sim_data_year['outflow'] = Q_sim\n",
    "    \n",
    "    RMSE = RMSE_function(Q_obs,sim_data_year['outflow'])\n",
    "    NSE  = NSE_function(Q_obs,sim_data_year['outflow'])\n",
    "\n",
    "    #######################################################################\n",
    "    # Results visualization\n",
    "    #######################################################################\n",
    "    \n",
    "    # Plot the figure\n",
    "    plt.figure(figsize=(15,5))\n",
    "    plt.plot(dates,Q_obs, label = 'obs', color = 'black')\n",
    "    plt.plot(dates,Q_sim, label = 'sim',color = 'blue', alpha = 0.3)\n",
    "    #plt.plot(dates,Q_sub, linestyle = ':',  color = 'green', label = 'baseflow')\n",
    "    plt.ylim(0,200000)\n",
    "    plt.title('Root mean squared error: '+str(round(RMSE))+ ' - Nash–Sutcliffe efficiency: '+str(round(NSE,3)),fontsize = 15)\n",
    "    plt.legend()\n",
    "    plt.ylabel('m3/day')\n",
    "    plt.show()"
   ]
  },
  {
   "cell_type": "markdown",
   "metadata": {},
   "source": [
    "Understanding the process of calibration of a model helps you understand the model itself. What each parameter means, which parameters influence the result the most and check that the model behaves in a logical way. And with interactive elements such as widgets we facilitate this task and therefore the understanding of the model (for example hydrological)"
   ]
  },
  {
   "cell_type": "code",
   "execution_count": null,
   "metadata": {},
   "outputs": [],
   "source": []
  }
 ],
 "metadata": {
  "kernelspec": {
   "display_name": "Python 3 (ipykernel)",
   "language": "python",
   "name": "python3"
  },
  "language_info": {
   "codemirror_mode": {
    "name": "ipython",
    "version": 3
   },
   "file_extension": ".py",
   "mimetype": "text/x-python",
   "name": "python",
   "nbconvert_exporter": "python",
   "pygments_lexer": "ipython3",
   "version": "3.9.12"
  },
  "varInspector": {
   "cols": {
    "lenName": 16,
    "lenType": 16,
    "lenVar": 40
   },
   "kernels_config": {
    "python": {
     "delete_cmd_postfix": "",
     "delete_cmd_prefix": "del ",
     "library": "var_list.py",
     "varRefreshCmd": "print(var_dic_list())"
    },
    "r": {
     "delete_cmd_postfix": ") ",
     "delete_cmd_prefix": "rm(",
     "library": "var_list.r",
     "varRefreshCmd": "cat(var_dic_list()) "
    }
   },
   "types_to_exclude": [
    "module",
    "function",
    "builtin_function_or_method",
    "instance",
    "_Feature"
   ],
   "window_display": false
  }
 },
 "nbformat": 4,
 "nbformat_minor": 4
}
