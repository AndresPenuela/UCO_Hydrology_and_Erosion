{
 "cells": [
  {
   "cell_type": "code",
   "execution_count": 1,
   "id": "2e90e722",
   "metadata": {},
   "outputs": [],
   "source": [
    "import numpy as np\n",
    "import matplotlib.pyplot as plt\n",
    "from ipywidgets import interact"
   ]
  },
  {
   "cell_type": "code",
   "execution_count": 2,
   "id": "1af91656",
   "metadata": {},
   "outputs": [],
   "source": [
    "def KE_LD_model(h):\n",
    "    KE_LD = 15.8*h**0.5 - 5.87\n",
    "    \n",
    "    return KE_LD"
   ]
  },
  {
   "cell_type": "code",
   "execution_count": 9,
   "id": "4e6f80d7",
   "metadata": {},
   "outputs": [
    {
     "data": {
      "text/plain": [
       "Text(0, 0.5, 'kinetic energy')"
      ]
     },
     "execution_count": 9,
     "metadata": {},
     "output_type": "execute_result"
    },
    {
     "data": {
      "image/png": "[encoded data removed]",
      "text/plain": [
       "<Figure size 432x288 with 1 Axes>"
      ]
     },
     "metadata": {
      "needs_background": "light"
     },
     "output_type": "display_data"
    }
   ],
   "source": [
    "h = np.arange(2.5)\n",
    "KE_LD = KE_LD_model(h)\n",
    "plt.plot(h,KE_LD)\n",
    "plt.xlim([0,30])\n",
    "plt.ylim([0,100])\n",
    "plt.xlabel('plant height (m)')\n",
    "plt.ylabel('kinetic energy (J/mm/m)')"
   ]
  },
  {
   "cell_type": "code",
   "execution_count": 12,
   "id": "7a419a27",
   "metadata": {},
   "outputs": [
    {
     "data": {
      "application/vnd.jupyter.widget-view+json": {
       "model_id": "e41583b62983462a9f765602b45af3a0",
       "version_major": 2,
       "version_minor": 0
      },
      "text/plain": [
       "interactive(children=(IntSlider(value=15, description='h_max', max=30), Output()), _dom_classes=('widget-inter…"
      ]
     },
     "metadata": {},
     "output_type": "display_data"
    },
    {
     "data": {
      "text/plain": [
       "<function __main__.interactive_plot(h_max)>"
      ]
     },
     "execution_count": 12,
     "metadata": {},
     "output_type": "execute_result"
    }
   ],
   "source": [
    "def interactive_plot(h_max):\n",
    "    h = np.arange(h_max)\n",
    "    KE_LD = KE_LD_model(h)\n",
    "    plt.plot(h,KE_LD)\n",
    "    plt.xlim([0,30])\n",
    "    plt.ylim([0,100])\n",
    "    plt.xlabel('plant height (m)')\n",
    "    plt.ylabel('kinetic energy (J/mm/m)')\n",
    "    \n",
    "interact(interactive_plot, h_max = (0,30))"
   ]
  },
  {
   "cell_type": "code",
   "execution_count": null,
   "id": "eeb73a87",
   "metadata": {},
   "outputs": [],
   "source": []
  }
 ],
 "metadata": {
  "kernelspec": {
   "display_name": "Python 3",
   "language": "python",
   "name": "python3"
  },
  "language_info": {
   "codemirror_mode": {
    "name": "ipython",
    "version": 3
   },
   "file_extension": ".py",
   "mimetype": "text/x-python",
   "name": "python",
   "nbconvert_exporter": "python",
   "pygments_lexer": "ipython3",
   "version": "3.8.8"
  }
 },
 "nbformat": 4,
 "nbformat_minor": 5
}
